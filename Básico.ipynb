{
 "cells": [
  {
   "cell_type": "markdown",
   "metadata": {},
   "source": [
    "# String literais formatadas 'f' que permite interação\n",
    "---"
   ]
  },
  {
   "cell_type": "code",
   "execution_count": 1,
   "metadata": {},
   "outputs": [
    {
     "name": "stdout",
     "output_type": "stream",
     "text": [
      "Enter a number: 10\n",
      "The number entered was: 10\n"
     ]
    }
   ],
   "source": [
    "n = input('Enter a number: ')\n",
    "t = print(f\"The number entered was: {n}\")"
   ]
  },
  {
   "cell_type": "markdown",
   "metadata": {},
   "source": [
    "* Utilization of str.strip() and str.title() que exclui os espaços antes e após a palavra e daixa em caixa alta o primeiro caracter"
   ]
  },
  {
   "cell_type": "code",
   "execution_count": 26,
   "metadata": {},
   "outputs": [
    {
     "name": "stdout",
     "output_type": "stream",
     "text": [
      "Type your name : eduardo \n",
      "Type your surname: mariot\n",
      "Your name is Eduardo Mariot\n"
     ]
    }
   ],
   "source": [
    "name = input('Type your name : ').strip().title()\n",
    "surname = input('Type your surname: ').strip().title()\n",
    "print(f\"Your name is: {name} {surname}\")"
   ]
  },
  {
   "cell_type": "code",
   "execution_count": 38,
   "metadata": {},
   "outputs": [
    {
     "name": "stdout",
     "output_type": "stream",
     "text": [
      "Enter the primer number: 1\n",
      "Enter the seccond number: 2\n",
      "Enter the third number: 3\n",
      "The sum of 1, 2, 3 is 6.\n",
      "1 + 2 + 3 = 6\n"
     ]
    }
   ],
   "source": [
    "n1 = int(input('Enter the primer number: '))\n",
    "n2 = int(input('Enter the seccond number: '))\n",
    "n3 = int(input('Enter the third number: '))\n",
    "sum_ = n1+n2+n3\n",
    "print(f'The sum of {n1}, {n2}, {n3} is {sum_}.')\n",
    "print(f'{n1} + {n2} + {n3} = {n1+n2+n3}')"
   ]
  },
  {
   "cell_type": "code",
   "execution_count": 5,
   "metadata": {},
   "outputs": [
    {
     "name": "stdout",
     "output_type": "stream",
     "text": [
      "Type the first note: 2\n",
      "Type the second note: 3\n",
      "The average grades (2.0,3.0) is: 2.5\n"
     ]
    }
   ],
   "source": [
    "n1 = float(input('Type the first note: '))\n",
    "n2 = float(input('Type the second note: '))\n",
    "mean = (n1+n2)/2\n",
    "print(f'The average grades ({n1},{n2}) is: {mean}')\n"
   ]
  },
  {
   "cell_type": "code",
   "execution_count": 3,
   "metadata": {},
   "outputs": [
    {
     "name": "stdout",
     "output_type": "stream",
     "text": [
      "Enter a number: 25\n",
      "The square root the number 25.0 is: 5.0\n"
     ]
    }
   ],
   "source": [
    "r = float(input('Enter a number: '))\n",
    "sqr = r**(1/2)\n",
    "print(f'The square root the number {r} is: {sqr}')"
   ]
  },
  {
   "cell_type": "code",
   "execution_count": 8,
   "metadata": {},
   "outputs": [
    {
     "name": "stdout",
     "output_type": "stream",
     "text": [
      "Enter five numbers now\n",
      "----------------------\n",
      "Number 1: 23\n",
      "Number 2: 34\n",
      "Number 3: 45\n",
      "Number 4: 56\n",
      "Number 5: 67\n",
      "The average of numbers are 466891133.4\n"
     ]
    }
   ],
   "source": [
    "print('Enter five numbers now')\n",
    "print('----------------------')\n",
    "n1 = input('Number 1: ')\n",
    "n2 = input('Number 2: ')\n",
    "n3 = input('Number 3: ')\n",
    "n4 = input('Number 4: ')\n",
    "n5 = input('Number 5: ')\n",
    "average = float((n1+n2+n3+n4+n5))/5\n",
    "print(f'The average of numbers are {average}')"
   ]
  },
  {
   "cell_type": "code",
   "execution_count": 2,
   "metadata": {},
   "outputs": [
    {
     "name": "stdout",
     "output_type": "stream",
     "text": [
      "How far (in meters) do you want to convert to kilometers? 1000\n",
      "The distanci to 1000.0 kilômetros is: 1.0 km\n"
     ]
    }
   ],
   "source": [
    "d = float(input('How far (in meters) do you want to convert to kilometers? ' ))\n",
    "print(f'The distanci of {d} meters in kilômetros is: {d/1000} km')"
   ]
  },
  {
   "cell_type": "markdown",
   "metadata": {},
   "source": [
    "# Calculate the area of a circle\n",
    "---"
   ]
  },
  {
   "cell_type": "code",
   "execution_count": 10,
   "metadata": {},
   "outputs": [
    {
     "name": "stdout",
     "output_type": "stream",
     "text": [
      "What is the desired \"R\" area?2\n",
      "The area of the circle is 12.57\n"
     ]
    }
   ],
   "source": [
    "from math import pi\n",
    "R = float(input('What is the desired \"R\" area?'))\n",
    "area = pi*R**2\n",
    "print(f'The area of the circle is {area:.2f}')"
   ]
  },
  {
   "cell_type": "markdown",
   "metadata": {},
   "source": [
    "# Convert your temperature from F° to C° \n",
    "---"
   ]
  },
  {
   "cell_type": "code",
   "execution_count": 17,
   "metadata": {},
   "outputs": [
    {
     "name": "stdout",
     "output_type": "stream",
     "text": [
      "What is the temperature in  Fahrenheit?180\n",
      "Its (180.0°F) temperature in Celsius is: 82.22°\n"
     ]
    }
   ],
   "source": [
    "T = float(input('What is the temperature in  Fahrenheit?'))\n",
    "C = 5*((T-32)/9)\n",
    "print(f'Its ({T}°F) temperature in Celsius is: {C:.2f}°')"
   ]
  },
  {
   "cell_type": "code",
   "execution_count": 21,
   "metadata": {},
   "outputs": [
    {
     "name": "stdout",
     "output_type": "stream",
     "text": [
      "--- this program multiplies and divides two numbers ---\n",
      "\n",
      "Enter the first number2\n",
      "Enter the second number2\n",
      "2.0 x 2.0 = 4.0\n",
      "2.0 / 2.0 = 1.0\n"
     ]
    }
   ],
   "source": [
    "print('--- this program multiplies and divides two numbers ---')\n",
    "print('')\n",
    "n1 = float(input('Enter the first number'))\n",
    "n2 = float(input('Enter the second number'))\n",
    "m = n1*n2\n",
    "d = n1/n2\n",
    "print(f'{n1} x {n2} = {m}')\n",
    "print(f'{n1} / {n2} = {d}')"
   ]
  },
  {
   "cell_type": "code",
   "execution_count": 8,
   "metadata": {},
   "outputs": [
    {
     "name": "stdout",
     "output_type": "stream",
     "text": [
      "---write your name, surname and age---\n",
      "Name: eduardo   \n",
      "Surname: mariot\n",
      "Age: 39\n",
      "Welcome Eduardo Mariot\n",
      "Your age is 39 \n"
     ]
    }
   ],
   "source": [
    "print(\"---write your name, surname and age---\")\n",
    "n = input(\"Name: \")\n",
    "s = input(\"Surname: \")\n",
    "a = int(input(\"Age: \"))\n",
    "print(f\"Welcome {n.strip().title()} {s.strip().title()}\")\n",
    "print(f\"Your age is {a} \")"
   ]
  },
  {
   "cell_type": "code",
   "execution_count": 12,
   "metadata": {},
   "outputs": [
    {
     "name": "stdout",
     "output_type": "stream",
     "text": [
      "---Convert the number to floating format---\n",
      "Enter a number: 20\n",
      "<class 'float'>\n",
      "This number 20 in floaing format is: 20.0.\n"
     ]
    }
   ],
   "source": [
    "print(\"---Convert the number to floating format---\")\n",
    "n = input(\"Enter a number: \")\n",
    "f = float(n)\n",
    "print(type(f))\n",
    "print(f\"This number {n} in floaing format is: {f}.\")"
   ]
  },
  {
   "cell_type": "code",
   "execution_count": 27,
   "metadata": {},
   "outputs": [
    {
     "name": "stdout",
     "output_type": "stream",
     "text": [
      "---This site is for adults---\n",
      "Inform your name: eDUARDO\n",
      "Inform your age. Please: 15\n",
      "You cannot access our website Eduardo\n"
     ]
    }
   ],
   "source": [
    "print(\"---This site is for adults---\")\n",
    "name = input(\"Inform your name: \")\n",
    "age = int(input(\"Inform your age. Please: \"))\n",
    "if age >= 18 and age < 110:\n",
    "    print(f\"{name.strip().title()} Welcome our website\")\n",
    "elif age < 18 and age > 0:\n",
    "    print(f\"You cannot access our website {name.strip().title()}\")\n",
    "else:\n",
    "    print(\"error\")\n"
   ]
  },
  {
   "cell_type": "code",
   "execution_count": 34,
   "metadata": {},
   "outputs": [
    {
     "name": "stdout",
     "output_type": "stream",
     "text": [
      "---Calculate the hypotenuse of the triangule---\n",
      "Enter the first side: 2\n",
      "Now, enter the seccond side: 4\n",
      "The hypotenuse is 4.47213595499958\n",
      "The hypotenuse is 4.47213595499958 (with the formula math)\n"
     ]
    }
   ],
   "source": [
    "from math import hypot\n",
    "print(\"---Calculate the hypotenuse of the triangule---\")\n",
    "c1 = float(input(\"Enter the first side: \"))\n",
    "c2 = float(input(\"Now, enter the seccond side: \"))\n",
    "hy = (c1**2+c2**2)**(1/2)\n",
    "hy_ = hypot(c1, c2)\n",
    "print(f\"The hypotenuse is {hy}\")\n",
    "print(f\"The hypotenuse is {hy_} (with the formula math)\")"
   ]
  },
  {
   "cell_type": "code",
   "execution_count": 47,
   "metadata": {},
   "outputs": [
    {
     "name": "stdout",
     "output_type": "stream",
     "text": [
      "--- Calculating your factorial ---\n",
      "Print your number: 10\n",
      "The factorial of 10 is 3628800\n",
      "calculating 10! = 10 x 9 x 8 x 7 x 6 x 5 x 4 x 3 x 2 x 1 = 3628800\n"
     ]
    }
   ],
   "source": [
    "from math import factorial as fac\n",
    "\n",
    "print('--- Calculating your factorial ---')\n",
    "n = int(input(\"Print your number: \"))\n",
    "c = n\n",
    "f = 1\n",
    "\n",
    "fac = fac(n)\n",
    "\n",
    "print(f'The factorial of {n} is {fac}')\n",
    "print(f'calculating {n}! = ', end='')\n",
    "while c > 0:\n",
    "    print(f'{c}', end='')\n",
    "    print(f' x ' if c>1 else ' = ', end='')\n",
    "    f *= c\n",
    "    c -= 1\n",
    "\n",
    "print(f)\n",
    "\n",
    "\n",
    "    \n",
    "   "
   ]
  },
  {
   "cell_type": "code",
   "execution_count": 3,
   "metadata": {},
   "outputs": [
    {
     "name": "stdout",
     "output_type": "stream",
     "text": [
      "---Calculating your log on base 10 and 2---\n",
      "Print your number: 10\n",
      "The log of 10.0 on base 10 is 1.0\n",
      "The log of 10.0 on base 2 is 3.3219280948873626\n"
     ]
    }
   ],
   "source": [
    "import math\n",
    "print(\"---Calculating your log on base 10 and 2---\")\n",
    "c = float(input(\"Print your number: \"))\n",
    "log1 = math.log10(c)\n",
    "log2 = math.log(c,2)\n",
    "print(f'The log of {c} on base 10 is {log1}')\n",
    "print(f'The log of {c} on base 2 is {log2}')"
   ]
  },
  {
   "cell_type": "code",
   "execution_count": 1,
   "metadata": {},
   "outputs": [
    {
     "name": "stdout",
     "output_type": "stream",
     "text": [
      "---Calculating tha area and perimeter of the triangle---\n",
      "Insert the base of the triangle: 10\n",
      "Insert the heigth of the triangle: 20\n",
      "The triangle informing with base 10.0 and heigth 20.0\n",
      "its area is 200.0 and its perimeter is 60.0\n"
     ]
    }
   ],
   "source": [
    "print('---Calculating tha area and perimeter of the triangle---')\n",
    "b = float(input('Insert the base of the triangle: '))\n",
    "a = float(input('Insert the heigth of the triangle: '))\n",
    "area = b*a\n",
    "perimeter = 2*b + 2*a\n",
    "print(f'The triangle informing with base {b} and heigth {a}')\n",
    "print(f'its area is {area} and its perimeter is {perimeter}')"
   ]
  },
  {
   "cell_type": "code",
   "execution_count": 6,
   "metadata": {},
   "outputs": [
    {
     "name": "stdout",
     "output_type": "stream",
     "text": [
      "---Search your salary---\n",
      "What is you first name: Eduardo \n",
      "What is your last name: Mariot\n",
      "Enter your salary: 1000\n",
      "Hallo Mr. Eduardo Mariot\n",
      "Your current salary is R$ 1000.00\n",
      "Your salary with 10% increase is: R$ 1100.00\n",
      "Your salary with 20% increase is: R$ 1200.00\n",
      "Your salary with 30% increase is: R$ 1300.00\n",
      "Your salary with 50% increase is: R$ 1500.00\n"
     ]
    }
   ],
   "source": [
    "print('---Search your salary---')\n",
    "name = input('What is you first name: ').strip().title()\n",
    "lname = input('What is your last name: ').strip().title()\n",
    "s = float(input('Enter your salary: '))\n",
    "print(f'Hallo Mr. {name} {lname}')\n",
    "print(f'Your current salary is R$ {s:.2f}')\n",
    "print(f'Your salary with 10% increase is: R$ {s*1.10:.2f}')\n",
    "print(f'Your salary with 20% increase is: R$ {s*1.20:.2f}')\n",
    "print(f'Your salary with 30% increase is: R$ {s*1.30:.2f}')\n",
    "print(f'Your salary with 50% increase is: R$ {s*1.50:.2f}')\n",
    "\n"
   ]
  },
  {
   "cell_type": "code",
   "execution_count": null,
   "metadata": {},
   "outputs": [],
   "source": []
  }
 ],
 "metadata": {
  "kernelspec": {
   "display_name": "Python 3",
   "language": "python",
   "name": "python3"
  },
  "language_info": {
   "codemirror_mode": {
    "name": "ipython",
    "version": 3
   },
   "file_extension": ".py",
   "mimetype": "text/x-python",
   "name": "python",
   "nbconvert_exporter": "python",
   "pygments_lexer": "ipython3",
   "version": "3.8.3"
  }
 },
 "nbformat": 4,
 "nbformat_minor": 4
}
