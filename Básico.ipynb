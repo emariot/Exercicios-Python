{
 "cells": [
  {
   "cell_type": "markdown",
   "metadata": {},
   "source": [
    "### String literais formatadas 'f' que permite interação"
   ]
  },
  {
   "cell_type": "code",
   "execution_count": 23,
   "metadata": {},
   "outputs": [
    {
     "name": "stdout",
     "output_type": "stream",
     "text": [
      "Enter a number: 3\n",
      "The number entered was: 3\n"
     ]
    }
   ],
   "source": [
    "n = input('Enter a number: ')\n",
    "t = print(f\"The number entered was: {n}\")"
   ]
  },
  {
   "cell_type": "markdown",
   "metadata": {},
   "source": [
    "### Utilization of str.strip() and str.title() que exclui os espaços antes e após a palavra e daixa em caixa alta o primeiro caracter"
   ]
  },
  {
   "cell_type": "code",
   "execution_count": 26,
   "metadata": {},
   "outputs": [
    {
     "name": "stdout",
     "output_type": "stream",
     "text": [
      "Type your name : eduardo \n",
      "Type your surname: mariot\n",
      "Your name is Eduardo Mariot\n"
     ]
    }
   ],
   "source": [
    "name = input('Type your name : ').strip().title()\n",
    "surname = input('Type your surname: ').strip().title()\n",
    "print(f\"Your name is: {name} {surname}\")"
   ]
  },
  {
   "cell_type": "code",
   "execution_count": 38,
   "metadata": {},
   "outputs": [
    {
     "name": "stdout",
     "output_type": "stream",
     "text": [
      "Enter the primer number: 1\n",
      "Enter the seccond number: 2\n",
      "Enter the third number: 3\n",
      "The sum of 1, 2, 3 is 6.\n",
      "1 + 2 + 3 = 6\n"
     ]
    }
   ],
   "source": [
    "n1 = int(input('Enter the primer number: '))\n",
    "n2 = int(input('Enter the seccond number: '))\n",
    "n3 = int(input('Enter the third number: '))\n",
    "sum_ = n1+n2+n3\n",
    "print(f'The sum of {n1}, {n2}, {n3} is {sum_}.')\n",
    "print(f'{n1} + {n2} + {n3} = {n1+n2+n3}')"
   ]
  },
  {
   "cell_type": "code",
   "execution_count": 5,
   "metadata": {},
   "outputs": [
    {
     "name": "stdout",
     "output_type": "stream",
     "text": [
      "Type the first note: 2\n",
      "Type the second note: 3\n",
      "The average grades (2.0,3.0) is: 2.5\n"
     ]
    }
   ],
   "source": [
    "n1 = float(input('Type the first note: '))\n",
    "n2 = float(input('Type the second note: '))\n",
    "mean = (n1+n2)/2\n",
    "print(f'The average grades ({n1},{n2}) is: {mean}')\n"
   ]
  },
  {
   "cell_type": "code",
   "execution_count": 3,
   "metadata": {},
   "outputs": [
    {
     "name": "stdout",
     "output_type": "stream",
     "text": [
      "Enter a number: 25\n",
      "The square root the number 25.0 is: 5.0\n"
     ]
    }
   ],
   "source": [
    "r = float(input('Enter a number: '))\n",
    "sqr = r**(1/2)\n",
    "print(f'The square root the number {r} is: {sqr}')"
   ]
  },
  {
   "cell_type": "code",
   "execution_count": 8,
   "metadata": {},
   "outputs": [
    {
     "name": "stdout",
     "output_type": "stream",
     "text": [
      "Enter five numbers now\n",
      "----------------------\n",
      "Number 1: 23\n",
      "Number 2: 34\n",
      "Number 3: 45\n",
      "Number 4: 56\n",
      "Number 5: 67\n",
      "The average of numbers are 466891133.4\n"
     ]
    }
   ],
   "source": [
    "print('Enter five numbers now')\n",
    "print('----------------------')\n",
    "n1 = input('Number 1: ')\n",
    "n2 = input('Number 2: ')\n",
    "n3 = input('Number 3: ')\n",
    "n4 = input('Number 4: ')\n",
    "n5 = input('Number 5: ')\n",
    "average = float((n1+n2+n3+n4+n5))/5\n",
    "print(f'The average of numbers are {average}')"
   ]
  },
  {
   "cell_type": "code",
   "execution_count": null,
   "metadata": {},
   "outputs": [],
   "source": []
  }
 ],
 "metadata": {
  "kernelspec": {
   "display_name": "Python 3",
   "language": "python",
   "name": "python3"
  },
  "language_info": {
   "codemirror_mode": {
    "name": "ipython",
    "version": 3
   },
   "file_extension": ".py",
   "mimetype": "text/x-python",
   "name": "python",
   "nbconvert_exporter": "python",
   "pygments_lexer": "ipython3",
   "version": "3.8.3"
  }
 },
 "nbformat": 4,
 "nbformat_minor": 4
}
