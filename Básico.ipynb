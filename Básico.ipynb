{
 "cells": [
  {
   "cell_type": "markdown",
   "metadata": {},
   "source": [
    "# String literais formatadas 'f' que permite interação\n",
    "---"
   ]
  },
  {
   "cell_type": "code",
   "execution_count": 1,
   "metadata": {},
   "outputs": [
    {
     "name": "stdout",
     "output_type": "stream",
     "text": [
      "Enter a number: 10\n",
      "The number entered was: 10\n"
     ]
    }
   ],
   "source": [
    "n = input('Enter a number: ')\n",
    "t = print(f\"The number entered was: {n}\")"
   ]
  },
  {
   "cell_type": "markdown",
   "metadata": {},
   "source": [
    "* Utilization of str.strip() and str.title() que exclui os espaços antes e após a palavra e daixa em caixa alta o primeiro caracter"
   ]
  },
  {
   "cell_type": "code",
   "execution_count": 26,
   "metadata": {},
   "outputs": [
    {
     "name": "stdout",
     "output_type": "stream",
     "text": [
      "Type your name : eduardo \n",
      "Type your surname: mariot\n",
      "Your name is Eduardo Mariot\n"
     ]
    }
   ],
   "source": [
    "name = input('Type your name : ').strip().title()\n",
    "surname = input('Type your surname: ').strip().title()\n",
    "print(f\"Your name is: {name} {surname}\")"
   ]
  },
  {
   "cell_type": "code",
   "execution_count": 38,
   "metadata": {},
   "outputs": [
    {
     "name": "stdout",
     "output_type": "stream",
     "text": [
      "Enter the primer number: 1\n",
      "Enter the seccond number: 2\n",
      "Enter the third number: 3\n",
      "The sum of 1, 2, 3 is 6.\n",
      "1 + 2 + 3 = 6\n"
     ]
    }
   ],
   "source": [
    "n1 = int(input('Enter the primer number: '))\n",
    "n2 = int(input('Enter the seccond number: '))\n",
    "n3 = int(input('Enter the third number: '))\n",
    "sum_ = n1+n2+n3\n",
    "print(f'The sum of {n1}, {n2}, {n3} is {sum_}.')\n",
    "print(f'{n1} + {n2} + {n3} = {n1+n2+n3}')"
   ]
  },
  {
   "cell_type": "code",
   "execution_count": 5,
   "metadata": {},
   "outputs": [
    {
     "name": "stdout",
     "output_type": "stream",
     "text": [
      "Type the first note: 2\n",
      "Type the second note: 3\n",
      "The average grades (2.0,3.0) is: 2.5\n"
     ]
    }
   ],
   "source": [
    "n1 = float(input('Type the first note: '))\n",
    "n2 = float(input('Type the second note: '))\n",
    "mean = (n1+n2)/2\n",
    "print(f'The average grades ({n1},{n2}) is: {mean}')\n"
   ]
  },
  {
   "cell_type": "code",
   "execution_count": 3,
   "metadata": {},
   "outputs": [
    {
     "name": "stdout",
     "output_type": "stream",
     "text": [
      "Enter a number: 25\n",
      "The square root the number 25.0 is: 5.0\n"
     ]
    }
   ],
   "source": [
    "r = float(input('Enter a number: '))\n",
    "sqr = r**(1/2)\n",
    "print(f'The square root the number {r} is: {sqr}')"
   ]
  },
  {
   "cell_type": "code",
   "execution_count": 8,
   "metadata": {},
   "outputs": [
    {
     "name": "stdout",
     "output_type": "stream",
     "text": [
      "Enter five numbers now\n",
      "----------------------\n",
      "Number 1: 23\n",
      "Number 2: 34\n",
      "Number 3: 45\n",
      "Number 4: 56\n",
      "Number 5: 67\n",
      "The average of numbers are 466891133.4\n"
     ]
    }
   ],
   "source": [
    "print('Enter five numbers now')\n",
    "print('----------------------')\n",
    "n1 = input('Number 1: ')\n",
    "n2 = input('Number 2: ')\n",
    "n3 = input('Number 3: ')\n",
    "n4 = input('Number 4: ')\n",
    "n5 = input('Number 5: ')\n",
    "average = float((n1+n2+n3+n4+n5))/5\n",
    "print(f'The average of numbers are {average}')"
   ]
  },
  {
   "cell_type": "code",
   "execution_count": 2,
   "metadata": {},
   "outputs": [
    {
     "name": "stdout",
     "output_type": "stream",
     "text": [
      "How far (in meters) do you want to convert to kilometers? 1000\n",
      "The distanci to 1000.0 kilômetros is: 1.0 km\n"
     ]
    }
   ],
   "source": [
    "d = float(input('How far (in meters) do you want to convert to kilometers? ' ))\n",
    "print(f'The distanci of {d} meters in kilômetros is: {d/1000} km')"
   ]
  },
  {
   "cell_type": "markdown",
   "metadata": {},
   "source": [
    "# Calculate the area of a circle\n",
    "---"
   ]
  },
  {
   "cell_type": "code",
   "execution_count": 10,
   "metadata": {},
   "outputs": [
    {
     "name": "stdout",
     "output_type": "stream",
     "text": [
      "What is the desired \"R\" area?2\n",
      "The area of the circle is 12.57\n"
     ]
    }
   ],
   "source": [
    "from math import pi\n",
    "R = float(input('What is the desired \"R\" area?'))\n",
    "area = pi*R**2\n",
    "print(f'The area of the circle is {area:.2f}')"
   ]
  },
  {
   "cell_type": "markdown",
   "metadata": {},
   "source": [
    "# Convert your temperature from F° to C° \n",
    "---"
   ]
  },
  {
   "cell_type": "code",
   "execution_count": 17,
   "metadata": {},
   "outputs": [
    {
     "name": "stdout",
     "output_type": "stream",
     "text": [
      "What is the temperature in  Fahrenheit?180\n",
      "Its (180.0°F) temperature in Celsius is: 82.22°\n"
     ]
    }
   ],
   "source": [
    "T = float(input('What is the temperature in  Fahrenheit?'))\n",
    "C = 5*((T-32)/9)\n",
    "print(f'Its ({T}°F) temperature in Celsius is: {C:.2f}°')"
   ]
  },
  {
   "cell_type": "code",
   "execution_count": 21,
   "metadata": {},
   "outputs": [
    {
     "name": "stdout",
     "output_type": "stream",
     "text": [
      "--- this program multiplies and divides two numbers ---\n",
      "\n",
      "Enter the first number2\n",
      "Enter the second number2\n",
      "2.0 x 2.0 = 4.0\n",
      "2.0 / 2.0 = 1.0\n"
     ]
    }
   ],
   "source": [
    "print('--- this program multiplies and divides two numbers ---')\n",
    "print('')\n",
    "n1 = float(input('Enter the first number'))\n",
    "n2 = float(input('Enter the second number'))\n",
    "m = n1*n2\n",
    "d = n1/n2\n",
    "print(f'{n1} x {n2} = {m}')\n",
    "print(f'{n1} / {n2} = {d}')"
   ]
  },
  {
   "cell_type": "code",
   "execution_count": 8,
   "metadata": {},
   "outputs": [
    {
     "name": "stdout",
     "output_type": "stream",
     "text": [
      "---write your name, surname and age---\n",
      "Name: eduardo   \n",
      "Surname: mariot\n",
      "Age: 39\n",
      "Welcome Eduardo Mariot\n",
      "Your age is 39 \n"
     ]
    }
   ],
   "source": [
    "print(\"---write your name, surname and age---\")\n",
    "n = input(\"Name: \")\n",
    "s = input(\"Surname: \")\n",
    "a = int(input(\"Age: \"))\n",
    "print(f\"Welcome {n.strip().title()} {s.strip().title()}\")\n",
    "print(f\"Your age is {a} \")"
   ]
  },
  {
   "cell_type": "code",
   "execution_count": 12,
   "metadata": {},
   "outputs": [
    {
     "name": "stdout",
     "output_type": "stream",
     "text": [
      "---Convert the number to floating format---\n",
      "Enter a number: 20\n",
      "<class 'float'>\n",
      "This number 20 in floaing format is: 20.0.\n"
     ]
    }
   ],
   "source": [
    "print(\"---Convert the number to floating format---\")\n",
    "n = input(\"Enter a number: \")\n",
    "f = float(n)\n",
    "print(type(f))\n",
    "print(f\"This number {n} in floaing format is: {f}.\")"
   ]
  },
  {
   "cell_type": "code",
   "execution_count": 27,
   "metadata": {},
   "outputs": [
    {
     "name": "stdout",
     "output_type": "stream",
     "text": [
      "---This site is for adults---\n",
      "Inform your name: eDUARDO\n",
      "Inform your age. Please: 15\n",
      "You cannot access our website Eduardo\n"
     ]
    }
   ],
   "source": [
    "print(\"---This site is for adults---\")\n",
    "name = input(\"Inform your name: \")\n",
    "age = int(input(\"Inform your age. Please: \"))\n",
    "if age >= 18 and age < 110:\n",
    "    print(f\"{name.strip().title()} Welcome our website\")\n",
    "elif age < 18 and age > 0:\n",
    "    print(f\"You cannot access our website {name.strip().title()}\")\n",
    "else:\n",
    "    print(\"error\")\n"
   ]
  },
  {
   "cell_type": "code",
   "execution_count": 34,
   "metadata": {},
   "outputs": [
    {
     "name": "stdout",
     "output_type": "stream",
     "text": [
      "---Calculate the hypotenuse of the triangule---\n",
      "Enter the first side: 2\n",
      "Now, enter the seccond side: 4\n",
      "The hypotenuse is 4.47213595499958\n",
      "The hypotenuse is 4.47213595499958 (with the formula math)\n"
     ]
    }
   ],
   "source": [
    "from math import hypot\n",
    "print(\"---Calculate the hypotenuse of the triangule---\")\n",
    "c1 = float(input(\"Enter the first side: \"))\n",
    "c2 = float(input(\"Now, enter the seccond side: \"))\n",
    "hy = (c1**2+c2**2)**(1/2)\n",
    "hy_ = hypot(c1, c2)\n",
    "print(f\"The hypotenuse is {hy}\")\n",
    "print(f\"The hypotenuse is {hy_} (with the formula math)\")"
   ]
  },
  {
   "cell_type": "code",
   "execution_count": 47,
   "metadata": {},
   "outputs": [
    {
     "name": "stdout",
     "output_type": "stream",
     "text": [
      "--- Calculating your factorial ---\n",
      "Print your number: 10\n",
      "The factorial of 10 is 3628800\n",
      "calculating 10! = 10 x 9 x 8 x 7 x 6 x 5 x 4 x 3 x 2 x 1 = 3628800\n"
     ]
    }
   ],
   "source": [
    "from math import factorial as fac\n",
    "\n",
    "print('--- Calculating your factorial ---')\n",
    "n = int(input(\"Print your number: \"))\n",
    "c = n\n",
    "f = 1\n",
    "\n",
    "fac = fac(n)\n",
    "\n",
    "print(f'The factorial of {n} is {fac}')\n",
    "print(f'calculating {n}! = ', end='')\n",
    "while c > 0:\n",
    "    print(f'{c}', end='')\n",
    "    print(f' x ' if c>1 else ' = ', end='')\n",
    "    f *= c\n",
    "    c -= 1\n",
    "\n",
    "print(f)\n",
    "\n",
    "\n",
    "    \n",
    "   "
   ]
  },
  {
   "cell_type": "code",
   "execution_count": 3,
   "metadata": {},
   "outputs": [
    {
     "name": "stdout",
     "output_type": "stream",
     "text": [
      "---Calculating your log on base 10 and 2---\n",
      "Print your number: 10\n",
      "The log of 10.0 on base 10 is 1.0\n",
      "The log of 10.0 on base 2 is 3.3219280948873626\n"
     ]
    }
   ],
   "source": [
    "import math\n",
    "print(\"---Calculating your log on base 10 and 2---\")\n",
    "c = float(input(\"Print your number: \"))\n",
    "log1 = math.log10(c)\n",
    "log2 = math.log(c,2)\n",
    "print(f'The log of {c} on base 10 is {log1}')\n",
    "print(f'The log of {c} on base 2 is {log2}')"
   ]
  },
  {
   "cell_type": "code",
   "execution_count": 1,
   "metadata": {},
   "outputs": [
    {
     "name": "stdout",
     "output_type": "stream",
     "text": [
      "---Calculating tha area and perimeter of the triangle---\n",
      "Insert the base of the triangle: 10\n",
      "Insert the heigth of the triangle: 20\n",
      "The triangle informing with base 10.0 and heigth 20.0\n",
      "its area is 200.0 and its perimeter is 60.0\n"
     ]
    }
   ],
   "source": [
    "print('---Calculating tha area and perimeter of the triangle---')\n",
    "b = float(input('Insert the base of the triangle: '))\n",
    "a = float(input('Insert the heigth of the triangle: '))\n",
    "area = b*a\n",
    "perimeter = 2*b + 2*a\n",
    "print(f'The triangle informing with base {b} and heigth {a}')\n",
    "print(f'its area is {area} and its perimeter is {perimeter}')"
   ]
  },
  {
   "cell_type": "code",
   "execution_count": 6,
   "metadata": {},
   "outputs": [
    {
     "name": "stdout",
     "output_type": "stream",
     "text": [
      "---Search your salary---\n",
      "What is you first name: Eduardo \n",
      "What is your last name: Mariot\n",
      "Enter your salary: 1000\n",
      "Hallo Mr. Eduardo Mariot\n",
      "Your current salary is R$ 1000.00\n",
      "Your salary with 10% increase is: R$ 1100.00\n",
      "Your salary with 20% increase is: R$ 1200.00\n",
      "Your salary with 30% increase is: R$ 1300.00\n",
      "Your salary with 50% increase is: R$ 1500.00\n"
     ]
    }
   ],
   "source": [
    "print('---Search your salary---')\n",
    "name = input('What is you first name: ').strip().title()\n",
    "lname = input('What is your last name: ').strip().title()\n",
    "s = float(input('Enter your salary: '))\n",
    "print(f'Hallo Mr. {name} {lname}')\n",
    "print(f'Your current salary is R$ {s:.2f}')\n",
    "print(f'Your salary with 10% increase is: R$ {s*1.10:.2f}')\n",
    "print(f'Your salary with 20% increase is: R$ {s*1.20:.2f}')\n",
    "print(f'Your salary with 30% increase is: R$ {s*1.30:.2f}')\n",
    "print(f'Your salary with 50% increase is: R$ {s*1.50:.2f}')\n",
    "\n"
   ]
  },
  {
   "cell_type": "code",
   "execution_count": 10,
   "metadata": {},
   "outputs": [
    {
     "name": "stdout",
     "output_type": "stream",
     "text": [
      "---Multiply your number---\n",
      "What is your number you want to multiply: 8\n",
      "---Your 8 times table---\n",
      "8 x 1 = 8\n",
      "8 x 2 = 16\n",
      "8 x 3 = 24\n",
      "8 x 4 = 32\n",
      "8 x 5 = 40\n",
      "8 x 6 = 48\n",
      "8 x 7 = 56\n",
      "8 x 8 = 64\n",
      "8 x 9 = 72\n",
      "8 x 10 = 80\n"
     ]
    }
   ],
   "source": [
    "print('---Multiply your number---')\n",
    "n = float(input('What is your number you want to multiply: '))\n",
    "c = 1\n",
    "print(f'---Your {n:.0f} times table---')\n",
    "while c <= 10:\n",
    "    m = n*c\n",
    "    print(f'{n:.0f} x {c} = {m:.0f}')\n",
    "    c += 1\n"
   ]
  },
  {
   "cell_type": "code",
   "execution_count": 11,
   "metadata": {},
   "outputs": [
    {
     "name": "stdout",
     "output_type": "stream",
     "text": [
      "---Return the valor absolute of the givem number---\n",
      "Enter your number: -10\n",
      "The number absolute of the -10.0 is 10.0\n"
     ]
    }
   ],
   "source": [
    "print('---Return the valor absolute of the givem number---')\n",
    "n = float(input('Enter your number: '))\n",
    "a = abs(n)\n",
    "print(f'The number absolute of the {n} is {a}')"
   ]
  },
  {
   "cell_type": "code",
   "execution_count": 16,
   "metadata": {},
   "outputs": [
    {
     "name": "stdout",
     "output_type": "stream",
     "text": [
      "---Find the caracter of a word---\n",
      "Enter your word:   m  a  r iposa\n",
      "The word \"mariposa\" have 8 caracteres.\n"
     ]
    }
   ],
   "source": [
    "print('---Find the caracter of a word---')\n",
    "p = input('Enter your word: ').replace(\" \",\"\")\n",
    "print(f'The word \"{p}\" have {len(p)} caracteres.')"
   ]
  },
  {
   "cell_type": "code",
   "execution_count": 4,
   "metadata": {},
   "outputs": [
    {
     "name": "stdout",
     "output_type": "stream",
     "text": [
      "---even or odd---\n",
      "Enter your number: 5\n",
      "The number 5 is odd!\n"
     ]
    }
   ],
   "source": [
    "print('---even or odd---')\n",
    "n = int(input('Enter your number: '))\n",
    "if n%2==0:\n",
    "    print(f'The number {n} is even!')\n",
    "else:\n",
    "    print(f'The number {n} is odd!')"
   ]
  },
  {
   "cell_type": "code",
   "execution_count": 11,
   "metadata": {},
   "outputs": [
    {
     "name": "stdout",
     "output_type": "stream",
     "text": [
      "---Calculate your BMI body mass index---\n",
      "What is your name: Eduardo\n",
      "How much do you weigh: 84\n",
      "How tall are you: 1.76\n",
      "Eduardo, your BMI is 27.117768595041323:\n",
      "Obesity Class1\n"
     ]
    }
   ],
   "source": [
    "print('---Calculate your BMI body mass index---')\n",
    "n = input('What is your name: ')\n",
    "w = float(input('How much do you weigh: '))\n",
    "t = float(input('How tall are you: '))\n",
    "BMI = w/(t*t)\n",
    "print(f'{n}, your BMI is {BMI}:')\n",
    "if BMI < 18:\n",
    "    print('Under weigh')\n",
    "elif 18 <= BMI < 23:\n",
    "    print('Normal weigh')\n",
    "elif 23 <= BMI < 27:\n",
    "    print('Over weigt')\n",
    "elif 27 <= BMI < 32:\n",
    "    print('Obesity Class1')\n",
    "elif 32 <= BMI < 37:\n",
    "    print('Obesity Class2')\n",
    "else:\n",
    "    print('Obesity Class3')\n"
   ]
  },
  {
   "cell_type": "code",
   "execution_count": 17,
   "metadata": {},
   "outputs": [
    {
     "name": "stdout",
     "output_type": "stream",
     "text": [
      "---What is the largest number---\n",
      "Enter the first number:6\n",
      "Enter the last number: 6\n",
      "There has an error or the numbers are the same!\n"
     ]
    }
   ],
   "source": [
    "print('---What is the largest number---')\n",
    "n1 = float(input('Enter the first number:'))\n",
    "n2 = float(input('Enter the last number: '))\n",
    "\n",
    "if n1>n2:\n",
    "    print(f'The largest number is {n1}')\n",
    "elif n1<n2:\n",
    "    print(f'The largest number is {n2}')\n",
    "else:\n",
    "    print('There has an error or the numbers are the same!')\n"
   ]
  },
  {
   "cell_type": "code",
   "execution_count": 8,
   "metadata": {},
   "outputs": [
    {
     "name": "stdout",
     "output_type": "stream",
     "text": [
      "---Know if your number is Null, Positive or Negative---\n",
      "Enter your number:0\n",
      "Your number is Null\n"
     ]
    }
   ],
   "source": [
    "print('---Know if your number is Null, Positive or Negative---')\n",
    "n = float(input('Enter your number:'))\n",
    "if n == 0:\n",
    "    print('Your number is Null')\n",
    "elif n < 0:\n",
    "    print(f'Your number {n} is Negative')\n",
    "else:\n",
    "    print(f'Your number {n} is Positive')"
   ]
  },
  {
   "cell_type": "code",
   "execution_count": 15,
   "metadata": {},
   "outputs": [
    {
     "name": "stdout",
     "output_type": "stream",
     "text": [
      "---Know th largest number of three---\n",
      "Enter your first number: 2\n",
      "Enter your seccond number: 2\n",
      "Enter your tird number: 2\n",
      "Between 2, 2, 2 the largest number is 2\n"
     ]
    }
   ],
   "source": [
    "print('---Know th largest number of three---')\n",
    "n1 = float(input('Enter your first number: '))\n",
    "n2 = float(input('Enter your seccond number: '))\n",
    "n3 = float(input('Enter your tird number: '))\n",
    "\n",
    "m = max(n1,n2,n3)\n",
    "print(f'Between {n1:.0f}, {n2:.0f}, {n3:.0f} the largest number is {m:.0f}')\n"
   ]
  },
  {
   "cell_type": "code",
   "execution_count": 24,
   "metadata": {},
   "outputs": [
    {
     "name": "stdout",
     "output_type": "stream",
     "text": [
      "---Generating random numbers---\n",
      "25\n"
     ]
    }
   ],
   "source": [
    "import random\n",
    "print('---Generating a random number betwee 1 and 100---')\n",
    "print(random.randint(1,100))\n"
   ]
  },
  {
   "cell_type": "code",
   "execution_count": 27,
   "metadata": {},
   "outputs": [
    {
     "name": "stdout",
     "output_type": "stream",
     "text": [
      "---Leap year---\n",
      "Year: 2020\n",
      "2020 is leap year\n"
     ]
    }
   ],
   "source": [
    "print('---Leap year---')\n",
    "y = int(input('Year: '))\n",
    "if y%400==0 or (y%4==0 and not y%100==0):\n",
    "    print(f'{y} is leap year')\n",
    "else:\n",
    "    print(f\"{y} it's not leap year\")"
   ]
  },
  {
   "cell_type": "code",
   "execution_count": 30,
   "metadata": {},
   "outputs": [
    {
     "name": "stdout",
     "output_type": "stream",
     "text": [
      "---What is the length of a \"string\"---\n",
      "String: algo\n",
      "Your string is 'algo'. It has 4 caracters.\n"
     ]
    }
   ],
   "source": [
    "print('---What is the length of a \"string\"---')\n",
    "s = input('String: ')\n",
    "print(f\"Your string is '{s}'. It has {len(s)} caracters.\" )"
   ]
  },
  {
   "cell_type": "code",
   "execution_count": 2,
   "metadata": {},
   "outputs": [
    {
     "name": "stdout",
     "output_type": "stream",
     "text": [
      "---it's time---\n",
      "09012021 - 03:58:21 :P\n"
     ]
    }
   ],
   "source": [
    "import datetime as d\n",
    "print(\"---it's time---\")\n",
    "dt = d.datetime.now()\n",
    "print(dt.strftime('%d%m%Y - %H:%M:%S :P'))\n"
   ]
  },
  {
   "cell_type": "code",
   "execution_count": 1,
   "metadata": {},
   "outputs": [
    {
     "name": "stdout",
     "output_type": "stream",
     "text": [
      "--- Invert a string ---\n",
      "What is your string?:string\n",
      "gnirts\n"
     ]
    }
   ],
   "source": [
    "print(\"--- Invert a string ---\")\n",
    "s = input('What is your string?:')\n",
    "print(s[::-1])"
   ]
  },
  {
   "cell_type": "code",
   "execution_count": 7,
   "metadata": {},
   "outputs": [
    {
     "name": "stdout",
     "output_type": "stream",
     "text": [
      "  ---CALENDAR---\n",
      "   December 2020\n",
      "Mo Tu We Th Fr Sa Su\n",
      "    1  2  3  4  5  6\n",
      " 7  8  9 10 11 12 13\n",
      "14 15 16 17 18 19 20\n",
      "21 22 23 24 25 26 27\n",
      "28 29 30 31\n",
      "\n"
     ]
    }
   ],
   "source": [
    "import calendar\n",
    "print('  ---CALENDAR---')\n",
    "print(calendar.month(2020,12))"
   ]
  },
  {
   "cell_type": "code",
   "execution_count": 8,
   "metadata": {},
   "outputs": [
    {
     "name": "stdout",
     "output_type": "stream",
     "text": [
      "   ---CALENDAR---\n",
      "Enter the refernce month5\n",
      "Enter the refernce year1981\n",
      "      May 1981\n",
      "Mo Tu We Th Fr Sa Su\n",
      "             1  2  3\n",
      " 4  5  6  7  8  9 10\n",
      "11 12 13 14 15 16 17\n",
      "18 19 20 21 22 23 24\n",
      "25 26 27 28 29 30 31\n",
      "\n"
     ]
    }
   ],
   "source": [
    "print('   ---CALENDAR---')\n",
    "m = int(input('Enter the refernce month'))\n",
    "y = int(input('Enter the refernce year'))\n",
    "\n",
    "print(calendar.month(y,m))"
   ]
  },
  {
   "cell_type": "code",
   "execution_count": null,
   "metadata": {},
   "outputs": [],
   "source": []
  }
 ],
 "metadata": {
  "kernelspec": {
   "display_name": "Python 3",
   "language": "python",
   "name": "python3"
  },
  "language_info": {
   "codemirror_mode": {
    "name": "ipython",
    "version": 3
   },
   "file_extension": ".py",
   "mimetype": "text/x-python",
   "name": "python",
   "nbconvert_exporter": "python",
   "pygments_lexer": "ipython3",
   "version": "3.8.3"
  }
 },
 "nbformat": 4,
 "nbformat_minor": 4
}
