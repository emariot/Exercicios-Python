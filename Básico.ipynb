{
 "cells": [
  {
   "cell_type": "markdown",
   "metadata": {},
   "source": [
    "### String literais formatadas 'f' que permite interação"
   ]
  },
  {
   "cell_type": "code",
   "execution_count": 23,
   "metadata": {},
   "outputs": [
    {
     "name": "stdout",
     "output_type": "stream",
     "text": [
      "Enter a number: 3\n",
      "The number entered was: 3\n"
     ]
    }
   ],
   "source": [
    "n = input('Enter a number: ')\n",
    "t = print(f\"The number entered was: {n}\")"
   ]
  },
  {
   "cell_type": "markdown",
   "metadata": {},
   "source": [
    "### Utilization of str.strip() and str.title() que exclui os espaços antes e após a palavra e daixa em caixa alta o primeiro caracter"
   ]
  },
  {
   "cell_type": "code",
   "execution_count": 26,
   "metadata": {},
   "outputs": [
    {
     "name": "stdout",
     "output_type": "stream",
     "text": [
      "Type your name : eduardo \n",
      "Type your surname: mariot\n",
      "Your name is Eduardo Mariot\n"
     ]
    }
   ],
   "source": [
    "name = input('Type your name : ').strip().title()\n",
    "surname = input('Type your surname: ').strip().title()\n",
    "print(f\"Your name is: {name} {surname}\")"
   ]
  },
  {
   "cell_type": "code",
   "execution_count": 38,
   "metadata": {},
   "outputs": [
    {
     "name": "stdout",
     "output_type": "stream",
     "text": [
      "Enter the primer number: 1\n",
      "Enter the seccond number: 2\n",
      "Enter the third number: 3\n",
      "The sum of 1, 2, 3 is 6.\n",
      "1 + 2 + 3 = 6\n"
     ]
    }
   ],
   "source": [
    "n1 = int(input('Enter the primer number: '))\n",
    "n2 = int(input('Enter the seccond number: '))\n",
    "n3 = int(input('Enter the third number: '))\n",
    "sum_ = n1+n2+n3\n",
    "print(f'The sum of {n1}, {n2}, {n3} is {sum_}.')\n",
    "print(f'{n1} + {n2} + {n3} = {n1+n2+n3}')"
   ]
  },
  {
   "cell_type": "code",
   "execution_count": null,
   "metadata": {},
   "outputs": [],
   "source": []
  }
 ],
 "metadata": {
  "kernelspec": {
   "display_name": "Python 3",
   "language": "python",
   "name": "python3"
  },
  "language_info": {
   "codemirror_mode": {
    "name": "ipython",
    "version": 3
   },
   "file_extension": ".py",
   "mimetype": "text/x-python",
   "name": "python",
   "nbconvert_exporter": "python",
   "pygments_lexer": "ipython3",
   "version": "3.8.3"
  }
 },
 "nbformat": 4,
 "nbformat_minor": 4
}
