{
 "cells": [
  {
   "cell_type": "markdown",
   "id": "indie-influence",
   "metadata": {},
   "source": [
    "# The Lists\n",
    "---\n",
    "* The lists can be used to store values."
   ]
  },
  {
   "cell_type": "code",
   "execution_count": 10,
   "id": "several-primary",
   "metadata": {},
   "outputs": [
    {
     "name": "stdout",
     "output_type": "stream",
     "text": [
      "---Sum all elemnets of the list---\n",
      "The sum of the list is: 23\n"
     ]
    }
   ],
   "source": [
    "print(\"---Sum all elemnets of the list---\")\n",
    "l = [1,5,8,3,6]\n",
    "print(f\"The sum of the list is: {sum(l)}\")"
   ]
  },
  {
   "cell_type": "code",
   "execution_count": 18,
   "id": "prescription-canvas",
   "metadata": {},
   "outputs": [
    {
     "name": "stdout",
     "output_type": "stream",
     "text": [
      "---The multiplication all elemnets of the list---\n",
      "The multiplication is 518400\n"
     ]
    }
   ],
   "source": [
    "print(\"---The multiplication all elemnets of the list---\")\n",
    "lista=[5,4,3,2,1]\n",
    "for i in l:\n",
    "    m *= i\n",
    "print(f'The multiplication is {m}')"
   ]
  },
  {
   "cell_type": "code",
   "execution_count": 21,
   "id": "gothic-brief",
   "metadata": {},
   "outputs": [
    {
     "name": "stdout",
     "output_type": "stream",
     "text": [
      "---Function multiplication---\n"
     ]
    },
    {
     "data": {
      "text/plain": [
       "720"
      ]
     },
     "execution_count": 21,
     "metadata": {},
     "output_type": "execute_result"
    }
   ],
   "source": [
    "print(\"---Function multiplication---\")\n",
    "\n",
    "def mult_list(l):\n",
    "    m=1\n",
    "    for i in l:\n",
    "        m*=i\n",
    "    return m\n",
    "mult_list(l)"
   ]
  },
  {
   "cell_type": "code",
   "execution_count": 25,
   "id": "thousand-feature",
   "metadata": {},
   "outputs": [
    {
     "name": "stdout",
     "output_type": "stream",
     "text": [
      "---The highest number on the list---\n",
      "The highest number on the list is: 968\n",
      "968\n"
     ]
    }
   ],
   "source": [
    "print(\"---The highest number on the list---\")\n",
    "list_=[497, 186, 66, 198, 204, 339, 738, 743, \n",
    "       -80, 36, 887, 645, 312, 760, 574, 439, \n",
    "       164, 873, 125, 871, 901, 561, 5, -65, \n",
    "       -66, -51, 522, 306, -79, 577, 268, 240, \n",
    "       183, 217, 729, 202, 483, 464, 281, 6, \n",
    "       -44, 110, 670, 749, 846, 903, 15, 265, \n",
    "       596, -3, 534, -42, 528, 582, 552, 254, \n",
    "       780, 326, 816, -7, 859, 234, 898, 355, \n",
    "       706, 576, 968, 349, 649, 522, 466, 353, \n",
    "       940, 41, 141, 946, 317, 346, 256, 326, \n",
    "       546, 473, 270, 22, 102, 504, 421, 87, \n",
    "       570, 143, 519, 292, 382, 744, 525, 658, \n",
    "       725, 477, 413]\n",
    "print(f\"The highest number on the list is: {max(list_)}\")\n",
    "\n",
    "max_ = list_[0]\n",
    "for i in list_:\n",
    "    if i>max_:\n",
    "        max_=i\n",
    "print(max_)"
   ]
  },
  {
   "cell_type": "code",
   "execution_count": 27,
   "id": "extra-absorption",
   "metadata": {},
   "outputs": [
    {
     "name": "stdout",
     "output_type": "stream",
     "text": [
      "---The lowest number on the list---\n",
      "The highest number on the list is: -80\n",
      "-80\n"
     ]
    }
   ],
   "source": [
    "print(\"---The lowest number on the list---\")\n",
    "print(f\"The highest number on the list is: {min(list_)}\")\n",
    "max_ = list_[0]\n",
    "for i in list_:\n",
    "    if i<max_:\n",
    "        max_=i\n",
    "print(max_)"
   ]
  },
  {
   "cell_type": "code",
   "execution_count": null,
   "id": "listed-upset",
   "metadata": {},
   "outputs": [],
   "source": []
  }
 ],
 "metadata": {
  "kernelspec": {
   "display_name": "Python 3",
   "language": "python",
   "name": "python3"
  },
  "language_info": {
   "codemirror_mode": {
    "name": "ipython",
    "version": 3
   },
   "file_extension": ".py",
   "mimetype": "text/x-python",
   "name": "python",
   "nbconvert_exporter": "python",
   "pygments_lexer": "ipython3",
   "version": "3.8.5"
  }
 },
 "nbformat": 4,
 "nbformat_minor": 5
}
