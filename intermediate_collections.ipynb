{
 "cells": [
  {
   "cell_type": "markdown",
   "id": "indie-influence",
   "metadata": {},
   "source": [
    "# The Lists\n",
    "---\n",
    "* The lists can be used to store values."
   ]
  },
  {
   "cell_type": "code",
   "execution_count": 10,
   "id": "several-primary",
   "metadata": {},
   "outputs": [
    {
     "name": "stdout",
     "output_type": "stream",
     "text": [
      "---Sum all elemnets of the list---\n",
      "The sum of the list is: 23\n"
     ]
    }
   ],
   "source": [
    "print(\"---Sum all elemnets of the list---\")\n",
    "l = [1,5,8,3,6]\n",
    "print(f\"The sum of the list is: {sum(l)}\")"
   ]
  },
  {
   "cell_type": "code",
   "execution_count": 18,
   "id": "prescription-canvas",
   "metadata": {},
   "outputs": [
    {
     "name": "stdout",
     "output_type": "stream",
     "text": [
      "---The multiplication all elemnets of the list---\n",
      "The multiplication is 518400\n"
     ]
    }
   ],
   "source": [
    "print(\"---The multiplication all elemnets of the list---\")\n",
    "lista=[5,4,3,2,1]\n",
    "for i in l:\n",
    "    m *= i\n",
    "print(f'The multiplication is {m}')"
   ]
  },
  {
   "cell_type": "code",
   "execution_count": 21,
   "id": "gothic-brief",
   "metadata": {},
   "outputs": [
    {
     "name": "stdout",
     "output_type": "stream",
     "text": [
      "---Function multiplication---\n"
     ]
    },
    {
     "data": {
      "text/plain": [
       "720"
      ]
     },
     "execution_count": 21,
     "metadata": {},
     "output_type": "execute_result"
    }
   ],
   "source": [
    "print(\"---Function multiplication---\")\n",
    "\n",
    "def mult_list(l):\n",
    "    m=1\n",
    "    for i in l:\n",
    "        m*=i\n",
    "    return m\n",
    "mult_list(l)"
   ]
  },
  {
   "cell_type": "code",
   "execution_count": 1,
   "id": "thousand-feature",
   "metadata": {},
   "outputs": [
    {
     "name": "stdout",
     "output_type": "stream",
     "text": [
      "---The highest number on the list---\n",
      "The highest number on the list is: 968\n",
      "968\n"
     ]
    }
   ],
   "source": [
    "print(\"---The highest number on the list---\")\n",
    "list_=[497, 186, 66, 198, 204, 339, 738, 743, \n",
    "       -80, 36, 887, 645, 312, 760, 574, 439, \n",
    "       164, 873, 125, 871, 901, 561, 5, -65, \n",
    "       -66, -51, 522, 306, -79, 577, 268, 240, \n",
    "       183, 217, 729, 202, 483, 464, 281, 6, \n",
    "       -44, 110, 670, 749, 846, 903, 15, 265, \n",
    "       596, -3, 534, -42, 528, 582, 552, 254, \n",
    "       780, 326, 816, -7, 859, 234, 898, 355, \n",
    "       706, 576, 968, 349, 649, 522, 466, 353, \n",
    "       940, 41, 141, 946, 317, 346, 256, 326, \n",
    "       546, 473, 270, 22, 102, 504, 421, 87, \n",
    "       570, 143, 519, 292, 382, 744, 525, 658, \n",
    "       725, 477, 413]\n",
    "print(f\"The highest number on the list is: {max(list_)}\")\n",
    "\n",
    "max_ = list_[0]\n",
    "for i in list_:\n",
    "    if i>max_:\n",
    "        max_=i\n",
    "print(max_)"
   ]
  },
  {
   "cell_type": "code",
   "execution_count": 27,
   "id": "extra-absorption",
   "metadata": {},
   "outputs": [
    {
     "name": "stdout",
     "output_type": "stream",
     "text": [
      "---The lowest number on the list---\n",
      "The highest number on the list is: -80\n",
      "-80\n"
     ]
    }
   ],
   "source": [
    "print(\"---The lowest number on the list---\")\n",
    "print(f\"The highest number on the list is: {min(list_)}\")\n",
    "max_ = list_[0]\n",
    "for i in list_:\n",
    "    if i<max_:\n",
    "        max_=i\n",
    "print(max_)"
   ]
  },
  {
   "cell_type": "code",
   "execution_count": 13,
   "id": "listed-upset",
   "metadata": {},
   "outputs": [
    {
     "name": "stdout",
     "output_type": "stream",
     "text": [
      "---Order list---\n",
      "[-80, -79, -66, -65, -51, -44, -42, -7, -3, 5, 6, 15, 22, 36, 41, 66, 87, 102, 110, 125, 141, 143, 164, 183, 186, 198, 202, 204, 217, 234, 240, 254, 256, 265, 268, 270, 281, 292, 306, 312, 317, 326, 326, 339, 346, 349, 353, 355, 382, 413, 421, 439, 464, 466, 473, 477, 483, 497, 504, 519, 522, 522, 525, 528, 534, 546, 552, 561, 570, 574, 576, 577, 582, 596, 645, 649, 658, 670, 706, 725, 729, 738, 743, 744, 749, 760, 780, 816, 846, 859, 871, 873, 887, 898, 901, 903, 940, 946, 968]\n",
      "Reverse####\n",
      "[968, 946, 940, 903, 901, 898, 887, 873, 871, 859, 846, 816, 780, 760, 749, 744, 743, 738, 729, 725, 706, 670, 658, 649, 645, 596, 582, 577, 576, 574, 570, 561, 552, 546, 534, 528, 525, 522, 522, 519, 504, 497, 483, 477, 473, 466, 464, 439, 421, 413, 382, 355, 353, 349, 346, 339, 326, 326, 317, 312, 306, 292, 281, 270, 268, 265, 256, 254, 240, 234, 217, 204, 202, 198, 186, 183, 164, 143, 141, 125, 110, 102, 87, 66, 41, 36, 22, 15, 6, 5, -3, -7, -42, -44, -51, -65, -66, -79, -80]\n",
      "['a', 'a', 'b', 'd', 'f', 'h', 'i', 'm', 'q', 'r', 'u', 'z']\n",
      "Reverse####\n",
      "['z', 'u', 'r', 'q', 'm', 'i', 'h', 'f', 'd', 'b', 'a', 'a']\n"
     ]
    }
   ],
   "source": [
    "list_2=['a','a','z','f',\n",
    "        'h','i','m','u',\n",
    "        'q','r','b','d']\n",
    "print('---Order list---')\n",
    "list_.sort()\n",
    "print(list_)\n",
    "print('Reverse####')\n",
    "list_.sort(reverse=True)\n",
    "print(list_)\n",
    "list_2.sort()\n",
    "print(list_2)\n",
    "print('Reverse####')\n",
    "list_2.sort(reverse=True)\n",
    "print(list_2)"
   ]
  },
  {
   "cell_type": "code",
   "execution_count": null,
   "id": "advised-eclipse",
   "metadata": {},
   "outputs": [],
   "source": []
  }
 ],
 "metadata": {
  "kernelspec": {
   "display_name": "Python 3",
   "language": "python",
   "name": "python3"
  },
  "language_info": {
   "codemirror_mode": {
    "name": "ipython",
    "version": 3
   },
   "file_extension": ".py",
   "mimetype": "text/x-python",
   "name": "python",
   "nbconvert_exporter": "python",
   "pygments_lexer": "ipython3",
   "version": "3.8.5"
  }
 },
 "nbformat": 4,
 "nbformat_minor": 5
}
