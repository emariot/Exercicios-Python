{
 "cells": [
  {
   "cell_type": "markdown",
   "id": "indie-influence",
   "metadata": {},
   "source": [
    "# The Lists\n",
    "---\n",
    "* The lists can be used to store values."
   ]
  },
  {
   "cell_type": "code",
   "execution_count": 10,
   "id": "several-primary",
   "metadata": {},
   "outputs": [
    {
     "name": "stdout",
     "output_type": "stream",
     "text": [
      "---Sum all elemnets of the list---\n",
      "The sum of the list is: 23\n"
     ]
    }
   ],
   "source": [
    "print(\"---Sum all elemnets of the list---\")\n",
    "l = [1,5,8,3,6]\n",
    "print(f\"The sum of the list is: {sum(l)}\")"
   ]
  },
  {
   "cell_type": "code",
   "execution_count": 18,
   "id": "prescription-canvas",
   "metadata": {},
   "outputs": [
    {
     "name": "stdout",
     "output_type": "stream",
     "text": [
      "---The multiplication all elemnets of the list---\n",
      "The multiplication is 518400\n"
     ]
    }
   ],
   "source": [
    "print(\"---The multiplication all elemnets of the list---\")\n",
    "lista=[5,4,3,2,1]\n",
    "for i in l:\n",
    "    m *= i\n",
    "print(f'The multiplication is {m}')"
   ]
  },
  {
   "cell_type": "code",
   "execution_count": 21,
   "id": "gothic-brief",
   "metadata": {},
   "outputs": [
    {
     "name": "stdout",
     "output_type": "stream",
     "text": [
      "---Function multiplication---\n"
     ]
    },
    {
     "data": {
      "text/plain": [
       "720"
      ]
     },
     "execution_count": 21,
     "metadata": {},
     "output_type": "execute_result"
    }
   ],
   "source": [
    "print(\"---Function multiplication---\")\n",
    "\n",
    "def mult_list(l):\n",
    "    m=1\n",
    "    for i in l:\n",
    "        m*=i\n",
    "    return m\n",
    "mult_list(l)"
   ]
  },
  {
   "cell_type": "code",
   "execution_count": 1,
   "id": "thousand-feature",
   "metadata": {},
   "outputs": [
    {
     "name": "stdout",
     "output_type": "stream",
     "text": [
      "---The highest number on the list---\n",
      "The highest number on the list is: 968\n",
      "968\n"
     ]
    }
   ],
   "source": [
    "print(\"---The highest number on the list---\")\n",
    "list_=[497, 186, 66, 198, 204, 339, 738, 743, \n",
    "       -80, 36, 887, 645, 312, 760, 574, 439, \n",
    "       164, 873, 125, 871, 901, 561, 5, -65, \n",
    "       -66, -51, 522, 306, -79, 577, 268, 240, \n",
    "       183, 217, 729, 202, 483, 464, 281, 6, \n",
    "       -44, 110, 670, 749, 846, 903, 15, 265, \n",
    "       596, -3, 534, -42, 528, 582, 552, 254, \n",
    "       780, 326, 816, -7, 859, 234, 898, 355, \n",
    "       706, 576, 968, 349, 649, 522, 466, 353, \n",
    "       940, 41, 141, 946, 317, 346, 256, 326, \n",
    "       546, 473, 270, 22, 102, 504, 421, 87, \n",
    "       570, 143, 519, 292, 382, 744, 525, 658, \n",
    "       725, 477, 413]\n",
    "print(f\"The highest number on the list is: {max(list_)}\")\n",
    "\n",
    "max_ = list_[0]\n",
    "for i in list_:\n",
    "    if i>max_:\n",
    "        max_=i\n",
    "print(max_)"
   ]
  },
  {
   "cell_type": "code",
   "execution_count": 27,
   "id": "extra-absorption",
   "metadata": {},
   "outputs": [
    {
     "name": "stdout",
     "output_type": "stream",
     "text": [
      "---The lowest number on the list---\n",
      "The highest number on the list is: -80\n",
      "-80\n"
     ]
    }
   ],
   "source": [
    "print(\"---The lowest number on the list---\")\n",
    "print(f\"The highest number on the list is: {min(list_)}\")\n",
    "max_ = list_[0]\n",
    "for i in list_:\n",
    "    if i<max_:\n",
    "        max_=i\n",
    "print(max_)"
   ]
  },
  {
   "cell_type": "code",
   "execution_count": 13,
   "id": "listed-upset",
   "metadata": {},
   "outputs": [
    {
     "name": "stdout",
     "output_type": "stream",
     "text": [
      "---Order list---\n",
      "[-80, -79, -66, -65, -51, -44, -42, -7, -3, 5, 6, 15, 22, 36, 41, 66, 87, 102, 110, 125, 141, 143, 164, 183, 186, 198, 202, 204, 217, 234, 240, 254, 256, 265, 268, 270, 281, 292, 306, 312, 317, 326, 326, 339, 346, 349, 353, 355, 382, 413, 421, 439, 464, 466, 473, 477, 483, 497, 504, 519, 522, 522, 525, 528, 534, 546, 552, 561, 570, 574, 576, 577, 582, 596, 645, 649, 658, 670, 706, 725, 729, 738, 743, 744, 749, 760, 780, 816, 846, 859, 871, 873, 887, 898, 901, 903, 940, 946, 968]\n",
      "Reverse####\n",
      "[968, 946, 940, 903, 901, 898, 887, 873, 871, 859, 846, 816, 780, 760, 749, 744, 743, 738, 729, 725, 706, 670, 658, 649, 645, 596, 582, 577, 576, 574, 570, 561, 552, 546, 534, 528, 525, 522, 522, 519, 504, 497, 483, 477, 473, 466, 464, 439, 421, 413, 382, 355, 353, 349, 346, 339, 326, 326, 317, 312, 306, 292, 281, 270, 268, 265, 256, 254, 240, 234, 217, 204, 202, 198, 186, 183, 164, 143, 141, 125, 110, 102, 87, 66, 41, 36, 22, 15, 6, 5, -3, -7, -42, -44, -51, -65, -66, -79, -80]\n",
      "['a', 'a', 'b', 'd', 'f', 'h', 'i', 'm', 'q', 'r', 'u', 'z']\n",
      "Reverse####\n",
      "['z', 'u', 'r', 'q', 'm', 'i', 'h', 'f', 'd', 'b', 'a', 'a']\n"
     ]
    }
   ],
   "source": [
    "list_2=['a','a','z','f',\n",
    "        'h','i','m','u',\n",
    "        'q','r','b','d']\n",
    "print('---Order list---')\n",
    "list_.sort()\n",
    "print(list_)\n",
    "print('Reverse####')\n",
    "list_.sort(reverse=True)\n",
    "print(list_)\n",
    "list_2.sort()\n",
    "print(list_2)\n",
    "print('Reverse####')\n",
    "list_2.sort(reverse=True)\n",
    "print(list_2)"
   ]
  },
  {
   "cell_type": "code",
   "execution_count": 13,
   "id": "advised-eclipse",
   "metadata": {},
   "outputs": [
    {
     "name": "stdout",
     "output_type": "stream",
     "text": [
      "sort a list\n",
      "[('a', 21, 10), ('b', 99, 67), ('e', -120, -4), ('f', 33, -9), ('h', 88, 42), ('i', 40, 21), ('j', -100, 1), ('j', 130, 51), ('k', 11, 7), ('l', 2, 23), ('m', 923, -10), ('n', 74, 93), ('q', 44, 99), ('u', 30, 49), ('v', 612, 57), ('w', 91, 33), ('x', 40, 88), ('z', 321, 11)]\n"
     ]
    }
   ],
   "source": [
    "print(\"sort a list\")\n",
    "list_=[('a',21,10),('q',44,99),\n",
    "       ('z',321,11),('w',91,33),\n",
    "       ('f',33,-9),('h',88,42),\n",
    "       ('j',-100,1),('n',74,93),\n",
    "       ('k',11,7),('m',923,-10),\n",
    "       ('l',2,23),('v',612,57),\n",
    "       ('j',130,51),('x',40,88),\n",
    "       ('b',99,67),('u',30,49),\n",
    "       ('e',-120,-4),('i',40,21),\n",
    "      ]\n",
    "list_ = sorted(list_,key=lambda element:element[0])\n",
    "print(list_)"
   ]
  },
  {
   "cell_type": "code",
   "execution_count": 12,
   "id": "computational-description",
   "metadata": {},
   "outputs": [
    {
     "name": "stdout",
     "output_type": "stream",
     "text": [
      "Statistical Parameters\n",
      "Largest number: 4955\n",
      "Fewest number: -4968\n",
      "Sum of numbers: -38267\n",
      "Number of numbers: 152\n",
      "Average of numbers: -251.76\n",
      "Mode of numbers: -1153\n",
      "Median of numbers: -194.0\n",
      "Variance of numbers: 7779333.80\n",
      "Standart deviation of numbers: 2789.15\n"
     ]
    }
   ],
   "source": [
    "from statistics import *\n",
    "l=[-1505, 2518, 2333, 4682, -1740, 1067, 995,22,\n",
    "       -1153, -4098, 4560, 2958, 3640, -4154, 2345,4, \n",
    "       -1601, 158, -4044, -98, 707, 359, -3088, 527, \n",
    "       -3004, -4045, 563, -4137, 4598, -3862, 488, -1, \n",
    "       3445, 3820, 504, -1475, 1626, -1252, 2059, 16, \n",
    "       -1472, 2610, -4643, 2912, -2517, -4604, -1476, \n",
    "       3950, -4640, -229, 229, -3452, 4309, 2356, 66, \n",
    "       3728, -1846, -635, -3581, 4457, -2592, -1066, \n",
    "       -1006, -164, 805, -4500, -455, 2245, -4959, \n",
    "       -2415, 2038, 4512, 1243, 349, -1153, 3623, 631, \n",
    "       2209, -3349, -2417, 4429, -1324, -4101, -1354, \n",
    "       4400, -4968, -4433, 2042, 904, 932, 1331, 4955, \n",
    "       -3775, -333, 1012, 2192, -161, -224, 1505, -1615, \n",
    "       -2165, 3666, -4253, -358, -3939, -2641, 1228, \n",
    "       -608, -2280, 4939, -3355, 1340, -57, 3346, 2686, \n",
    "       -1572, 1991, -2351, -3972, -1683, -1509, -2488, \n",
    "       266, -2991, -795, -4032, 2397, 2391, 3654, -1044, \n",
    "       -2204, -2440, -1280, 2714, -4151, -1951, 3684, \n",
    "       -4251, 3748, -4359, -1436, -2190, 4538, -3563, \n",
    "       1542, 1926, -3940, -2274, -4223, 2504, -4112, 2388,\n",
    "]\n",
    "print('Statistical Parameters')\n",
    "print(f'Largest number: {max(l)}')\n",
    "print(f'Fewest number: {min(l)}')\n",
    "print(f'Sum of numbers: {sum(l)}')\n",
    "print(f'Number of numbers: {len(l)}')\n",
    "print(f'Average of numbers: {mean(l):.2f}')\n",
    "print(f'Mode of numbers: {mode(l)}')\n",
    "print(f'Median of numbers: {median(l)}')\n",
    "print(f'Variance of numbers: {variance(l):.2f}')\n",
    "print(f'Standart deviation of numbers: {stdev(l):.2f}')\n"
   ]
  },
  {
   "cell_type": "code",
   "execution_count": 75,
   "id": "numeric-corpus",
   "metadata": {
    "scrolled": false
   },
   "outputs": [
    {
     "name": "stdout",
     "output_type": "stream",
     "text": [
      "===Removing duplicate from the list===\n",
      "['a', 'b', 'c', 'k', 1, 2, 3, 4, 'j', 'l', 'm']\n",
      "[1, 'c', 2, 'k', 3, 4, 'j', 'a', 'm', 'l', 'b']\n"
     ]
    }
   ],
   "source": [
    "print(\"===Removing duplicate from the list===\")\n",
    "l = [\n",
    "    'a','a','a',\n",
    "    'b','c','k',\n",
    "    'a',1,2,3,4,\n",
    "    'j','l','m',\n",
    "]\n",
    "l_=[]\n",
    "for i in l:\n",
    "    if i not in l_:\n",
    "        l_.append(i)\n",
    "print(l_)\n",
    "# or\n",
    "list_ = list(set(l))\n",
    "print(list_)"
   ]
  },
  {
   "cell_type": "code",
   "execution_count": 5,
   "id": "preliminary-disclosure",
   "metadata": {},
   "outputs": [
    {
     "name": "stdout",
     "output_type": "stream",
     "text": [
      "List creation with range function\n",
      "[1950, 1951, 1952, 1953, 1954, 1955, 1956, 1957, 1958, 1959, 1960, 1961, 1962, 1963, 1964, 1965, 1966, 1967, 1968, 1969, 1970, 1971, 1972, 1973, 1974, 1975, 1976, 1977, 1978, 1979, 1980, 1981, 1982, 1983, 1984, 1985, 1986, 1987, 1988, 1989, 1990, 1991, 1992, 1993, 1994, 1995, 1996, 1997, 1998, 1999, 2000, 2001, 2002, 2003, 2004, 2005, 2006, 2007, 2008, 2009, 2010, 2011, 2012, 2013, 2014, 2015, 2016, 2017, 2018, 2019, 2020]\n"
     ]
    }
   ],
   "source": [
    "print(\"List creation with range function\")\n",
    "l = list(range(1950, 2021))\n",
    "print(l)"
   ]
  },
  {
   "cell_type": "code",
   "execution_count": 12,
   "id": "breathing-grounds",
   "metadata": {
    "scrolled": false
   },
   "outputs": [
    {
     "name": "stdout",
     "output_type": "stream",
     "text": [
      "Handling list\n",
      "First twenty years\n",
      "20\n",
      " \n",
      "Years between 1937 end 1969\n",
      "[1937, 1938, 1939, 1940, 1941, 1942, 1943, 1944, 1945, 1946, 1947, 1948, 1949, 1950, 1951, 1952, 1953, 1954, 1955, 1956, 1957, 1958, 1959, 1960, 1961, 1962, 1963, 1964, 1965, 1966, 1967, 1968, 1969]\n",
      " \n",
      "Years between 2020 end 2020\n",
      "[2010, 2011, 2012, 2013, 2014, 2015, 2016, 2017, 2018, 2019, 2020]\n",
      " \n",
      "Last year of the series\n",
      "2020\n",
      " \n",
      "Time series from 10 to 10\n",
      "[1900, 1910, 1920, 1930, 1940, 1950, 1960, 1970, 1980, 1990, 2000, 2010, 2020]\n"
     ]
    }
   ],
   "source": [
    "print(\"Handling list\")\n",
    "years=[1900, 1901, 1902, 1903, 1904, 1905, 1906, 1907, \n",
    "            1908, 1909, 1910, 1911, 1912, 1913, 1914, 1915, \n",
    "            1916, 1917, 1918, 1919, 1920, 1921, 1922, 1923, \n",
    "            1924, 1925, 1926, 1927, 1928, 1929, 1930, 1931, \n",
    "            1932, 1933, 1934, 1935, 1936, 1937, 1938, 1939,\n",
    "            1940, 1941, 1942, 1943, 1944, 1945, 1946, 1947, \n",
    "            1948, 1949, 1950, 1951, 1952, 1953, 1954, 1955, \n",
    "            1956, 1957, 1958, 1959, 1960, 1961, 1962, 1963, \n",
    "            1964, 1965, 1966, 1967, 1968, 1969, 1970, 1971, \n",
    "            1972, 1973, 1974, 1975, 1976, 1977, 1978, 1979, \n",
    "            1980, 1981, 1982, 1983, 1984, 1985, 1986, 1987, \n",
    "            1988, 1989, 1990, 1991, 1992, 1993, 1994, 1995, \n",
    "            1996, 1997, 1998, 1999, 2000, 2001, 2002, 2003, \n",
    "            2004, 2005, 2006, 2007, 2008, 2009, 2010, 2011,\n",
    "            2012, 2013, 2014, 2015, 2016, 2017, 2018, 2019,\n",
    "            2020]\n",
    "print(\"First twenty years\")\n",
    "years_20 = years[0:20]\n",
    "print(len(years_20))\n",
    "print(' ')\n",
    "print(\"Years between 1937 end 1969\")\n",
    "years_split = years[37:70]\n",
    "print(years_split)\n",
    "print(' ')\n",
    "print(\"Years between 2020 end 2020\")\n",
    "years_split_ = years[-11:]\n",
    "print(years_split_)\n",
    "print(' ')\n",
    "print(\"Last year of the series\")\n",
    "years_split_last = years[-1]\n",
    "print(years_split_last)\n",
    "print(' ')\n",
    "print(\"Time series from 10 to 10\")\n",
    "years_time = years[::10]\n",
    "print(years_time)"
   ]
  },
  {
   "cell_type": "code",
   "execution_count": null,
   "id": "massive-upgrade",
   "metadata": {},
   "outputs": [],
   "source": []
  }
 ],
 "metadata": {
  "kernelspec": {
   "display_name": "Python 3",
   "language": "python",
   "name": "python3"
  },
  "language_info": {
   "codemirror_mode": {
    "name": "ipython",
    "version": 3
   },
   "file_extension": ".py",
   "mimetype": "text/x-python",
   "name": "python",
   "nbconvert_exporter": "python",
   "pygments_lexer": "ipython3",
   "version": "3.8.5"
  }
 },
 "nbformat": 4,
 "nbformat_minor": 5
}
