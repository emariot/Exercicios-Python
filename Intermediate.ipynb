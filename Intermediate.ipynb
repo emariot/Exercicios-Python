{
 "cells": [
  {
   "cell_type": "markdown",
   "metadata": {},
   "source": [
    "## Repetition Structures\n",
    "---"
   ]
  },
  {
   "cell_type": "code",
   "execution_count": 7,
   "metadata": {},
   "outputs": [
    {
     "name": "stdout",
     "output_type": "stream",
     "text": [
      "--You can only put real numbers--\n",
      "Enter your number: 1\n",
      "Enter your number: 2\n",
      "Enter your number: 5\n",
      "Enter your number: 11\n",
      "Number of valid numbers: 3\n",
      "Sumation: 8.0\n",
      "Error\n"
     ]
    }
   ],
   "source": [
    "print(\"--You can only put real numbers--\")\n",
    "\n",
    "n = 0\n",
    "s = 0\n",
    "k = 0\n",
    "while 0<=n<=10:\n",
    "    n = float(input(\"Enter your number: \"))\n",
    "    if n > 10 or n < 0: \n",
    "        print(f'Number of valid numbers: {k}')\n",
    "        print(f'Sumation: {s}')\n",
    "        print('Error')\n",
    "        break\n",
    "\n",
    "    k = k + 1\n",
    "    s = s + n\n",
    "    \n"
   ]
  },
  {
   "cell_type": "code",
   "execution_count": 22,
   "metadata": {},
   "outputs": [
    {
     "name": "stdout",
     "output_type": "stream",
     "text": [
      "---Know the sum and average your number---\n",
      "Enter your number: 5\n",
      "Enter your number: 6\n",
      "Enter your number: 9\n",
      "Enter your number: 8\n",
      "Enter your number: 7\n",
      "Enter your number: 4\n",
      "Enter your number: 2\n",
      "Enter your number: 36\n",
      "Enter your number: 3\n",
      "Enter your number: 2\n",
      "Enter your number: 1\n",
      "Enter your number: 2\n",
      "Enter your number: 5\n",
      "Enter your number: 6\n",
      "Enter your number: 3\n",
      "Enter your number: 2\n",
      "Enter your number: 1\n",
      "Enter your number: 2\n",
      "Enter your number: 4\n",
      "Enter your number: 5\n",
      "Enter your number: 2\n",
      "The sum of the numbers is 115.0 and the average is 5.48\n"
     ]
    }
   ],
   "source": [
    "print('---Know the sum and average your number---')\n",
    "m = 0\n",
    "s = 0\n",
    "i = 0\n",
    "while i <= 20:\n",
    "    n = float(input(\"Enter your number: \"))\n",
    "    s = n + s\n",
    "    i = i + 1\n",
    "    m = s/i\n",
    "print(f'The sum of the numbers is {s} and the average is {m:.2f}')\n"
   ]
  },
  {
   "cell_type": "code",
   "execution_count": 21,
   "metadata": {},
   "outputs": [
    {
     "data": {
      "text/plain": [
       "5.0"
      ]
     },
     "execution_count": 21,
     "metadata": {},
     "output_type": "execute_result"
    }
   ],
   "source": [
    "n"
   ]
  },
  {
   "cell_type": "code",
   "execution_count": null,
   "metadata": {},
   "outputs": [],
   "source": []
  }
 ],
 "metadata": {
  "kernelspec": {
   "display_name": "Python 3",
   "language": "python",
   "name": "python3"
  },
  "language_info": {
   "codemirror_mode": {
    "name": "ipython",
    "version": 3
   },
   "file_extension": ".py",
   "mimetype": "text/x-python",
   "name": "python",
   "nbconvert_exporter": "python",
   "pygments_lexer": "ipython3",
   "version": "3.8.5"
  }
 },
 "nbformat": 4,
 "nbformat_minor": 4
}
