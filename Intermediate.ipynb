{
 "cells": [
  {
   "cell_type": "markdown",
   "metadata": {},
   "source": [
    "## Repetition Structures\n",
    "---"
   ]
  },
  {
   "cell_type": "code",
   "execution_count": 7,
   "metadata": {},
   "outputs": [
    {
     "name": "stdout",
     "output_type": "stream",
     "text": [
      "--You can only put real numbers--\n",
      "Enter your number: 1\n",
      "Enter your number: 2\n",
      "Enter your number: 5\n",
      "Enter your number: 11\n",
      "Number of valid numbers: 3\n",
      "Sumation: 8.0\n",
      "Error\n"
     ]
    }
   ],
   "source": [
    "print(\"--You can only put real numbers--\")\n",
    "\n",
    "n = 0\n",
    "s = 0\n",
    "k = 0\n",
    "while 0<=n<=10:\n",
    "    n = float(input(\"Enter your number: \"))\n",
    "    if n > 10 or n < 0: \n",
    "        print(f'Number of valid numbers: {k}')\n",
    "        print(f'Sumation: {s}')\n",
    "        print('Error')\n",
    "        break\n",
    "\n",
    "    k = k + 1\n",
    "    s = s + n\n",
    "    \n"
   ]
  },
  {
   "cell_type": "code",
   "execution_count": 22,
   "metadata": {},
   "outputs": [
    {
     "name": "stdout",
     "output_type": "stream",
     "text": [
      "---Know the sum and average your number---\n",
      "Enter your number: 5\n",
      "Enter your number: 6\n",
      "Enter your number: 9\n",
      "Enter your number: 8\n",
      "Enter your number: 7\n",
      "Enter your number: 4\n",
      "Enter your number: 2\n",
      "Enter your number: 36\n",
      "Enter your number: 3\n",
      "Enter your number: 2\n",
      "Enter your number: 1\n",
      "Enter your number: 2\n",
      "Enter your number: 5\n",
      "Enter your number: 6\n",
      "Enter your number: 3\n",
      "Enter your number: 2\n",
      "Enter your number: 1\n",
      "Enter your number: 2\n",
      "Enter your number: 4\n",
      "Enter your number: 5\n",
      "Enter your number: 2\n",
      "The sum of the numbers is 115.0 and the average is 5.48\n"
     ]
    }
   ],
   "source": [
    "print('---Know the sum and average your number---')\n",
    "m = 0\n",
    "s = 0\n",
    "i = 0\n",
    "while i <= 20:\n",
    "    n = float(input(\"Enter your number: \"))\n",
    "    s = n + s\n",
    "    i = i + 1\n",
    "    m = s/i\n",
    "print(f'The sum of the numbers is {s} and the average is {m:.2f}')\n"
   ]
  },
  {
   "cell_type": "code",
   "execution_count": 6,
   "metadata": {},
   "outputs": [
    {
     "name": "stdout",
     "output_type": "stream",
     "text": [
      "--- Even númbers between 1 and 200 ---\n",
      "2 4 6 8 10 12 14 16 18 20 22 24 26 28 30 32 34 36 38 40 42 44 46 48 50 52 54 56 58 60 62 64 66 68 70 72 74 76 78 80 82 84 86 88 90 92 94 96 98 100 102 104 106 108 110 112 114 116 118 120 122 124 126 128 130 132 134 136 138 140 142 144 146 148 150 152 154 156 158 160 162 164 166 168 170 172 174 176 178 180 182 184 186 188 190 192 194 196 198 200 "
     ]
    }
   ],
   "source": [
    "print('--- Even númbers between 1 and 200 ---')\n",
    "for i in range(1, 201):\n",
    "    if i%2==0:\n",
    "        print(i, end=' ')"
   ]
  },
  {
   "cell_type": "code",
   "execution_count": 7,
   "metadata": {},
   "outputs": [
    {
     "name": "stdout",
     "output_type": "stream",
     "text": [
      "--- Odd númbers between 1 and 200 ---\n",
      "1 3 5 7 9 11 13 15 17 19 21 23 25 27 29 31 33 35 37 39 41 43 45 47 49 51 53 55 57 59 61 63 65 67 69 71 73 75 77 79 81 83 85 87 89 91 93 95 97 99 101 103 105 107 109 111 113 115 117 119 121 123 125 127 129 131 133 135 137 139 141 143 145 147 149 151 153 155 157 159 161 163 165 167 169 171 173 175 177 179 181 183 185 187 189 191 193 195 197 199 "
     ]
    }
   ],
   "source": [
    "print('--- Odd númbers between 1 and 200 ---')\n",
    "for i in range(1, 201):\n",
    "    if i%2!=0:\n",
    "        print(i, end=' ')"
   ]
  },
  {
   "cell_type": "code",
   "execution_count": 24,
   "metadata": {},
   "outputs": [
    {
     "name": "stdout",
     "output_type": "stream",
     "text": [
      "--- Calculate the factorial of a number ---\n",
      "Enter your number: 10\n",
      "Calculating 10!...\n",
      "10!  x  9!  x  8!  x  7!  x  6!  x  5!  x  4!  x  3!  x  2!  x  1!  =  the factorial of 10 is 1048576\n"
     ]
    }
   ],
   "source": [
    "print('--- Calculate the factorial of a number ---')\n",
    "n = int(input('Enter your number: '))\n",
    "c = n\n",
    "f = 1\n",
    "print(f'Calculating {n}!...')\n",
    "while c > 0:  \n",
    "    print(f'{c}!', end=\" \")\n",
    "    print(' x ' if c > 1 else ' = ', end = ' ')\n",
    "    f = f * i\n",
    "    c -= 1\n",
    "print(f'the factorial of {n} is {f}')"
   ]
  },
  {
   "cell_type": "code",
   "execution_count": null,
   "metadata": {},
   "outputs": [],
   "source": [
    "4x3x2x1"
   ]
  }
 ],
 "metadata": {
  "kernelspec": {
   "display_name": "Python 3",
   "language": "python",
   "name": "python3"
  },
  "language_info": {
   "codemirror_mode": {
    "name": "ipython",
    "version": 3
   },
   "file_extension": ".py",
   "mimetype": "text/x-python",
   "name": "python",
   "nbconvert_exporter": "python",
   "pygments_lexer": "ipython3",
   "version": "3.8.5"
  }
 },
 "nbformat": 4,
 "nbformat_minor": 4
}
