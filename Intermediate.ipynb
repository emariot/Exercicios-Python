{
 "cells": [
  {
   "cell_type": "markdown",
   "metadata": {},
   "source": [
    "## Repetition Structures\n",
    "---"
   ]
  },
  {
   "cell_type": "code",
   "execution_count": 7,
   "metadata": {},
   "outputs": [
    {
     "name": "stdout",
     "output_type": "stream",
     "text": [
      "--You can only put real numbers--\n",
      "Enter your number: 1\n",
      "Enter your number: 2\n",
      "Enter your number: 5\n",
      "Enter your number: 11\n",
      "Number of valid numbers: 3\n",
      "Sumation: 8.0\n",
      "Error\n"
     ]
    }
   ],
   "source": [
    "print(\"--You can only put real numbers--\")\n",
    "\n",
    "n = 0\n",
    "s = 0\n",
    "k = 0\n",
    "while 0<=n<=10:\n",
    "    n = float(input(\"Enter your number: \"))\n",
    "    if n > 10 or n < 0: \n",
    "        print(f'Number of valid numbers: {k}')\n",
    "        print(f'Sumation: {s}')\n",
    "        print('Error')\n",
    "        break\n",
    "\n",
    "    k = k + 1\n",
    "    s = s + n\n",
    "    \n"
   ]
  },
  {
   "cell_type": "code",
   "execution_count": 22,
   "metadata": {},
   "outputs": [
    {
     "name": "stdout",
     "output_type": "stream",
     "text": [
      "---Know the sum and average your number---\n",
      "Enter your number: 5\n",
      "Enter your number: 6\n",
      "Enter your number: 9\n",
      "Enter your number: 8\n",
      "Enter your number: 7\n",
      "Enter your number: 4\n",
      "Enter your number: 2\n",
      "Enter your number: 36\n",
      "Enter your number: 3\n",
      "Enter your number: 2\n",
      "Enter your number: 1\n",
      "Enter your number: 2\n",
      "Enter your number: 5\n",
      "Enter your number: 6\n",
      "Enter your number: 3\n",
      "Enter your number: 2\n",
      "Enter your number: 1\n",
      "Enter your number: 2\n",
      "Enter your number: 4\n",
      "Enter your number: 5\n",
      "Enter your number: 2\n",
      "The sum of the numbers is 115.0 and the average is 5.48\n"
     ]
    }
   ],
   "source": [
    "print('---Know the sum and average your number---')\n",
    "m = 0\n",
    "s = 0\n",
    "i = 0\n",
    "while i <= 20:\n",
    "    n = float(input(\"Enter your number: \"))\n",
    "    s = n + s\n",
    "    i = i + 1\n",
    "    m = s/i\n",
    "print(f'The sum of the numbers is {s} and the average is {m:.2f}')\n"
   ]
  },
  {
   "cell_type": "code",
   "execution_count": 6,
   "metadata": {},
   "outputs": [
    {
     "name": "stdout",
     "output_type": "stream",
     "text": [
      "--- Even númbers between 1 and 200 ---\n",
      "2 4 6 8 10 12 14 16 18 20 22 24 26 28 30 32 34 36 38 40 42 44 46 48 50 52 54 56 58 60 62 64 66 68 70 72 74 76 78 80 82 84 86 88 90 92 94 96 98 100 102 104 106 108 110 112 114 116 118 120 122 124 126 128 130 132 134 136 138 140 142 144 146 148 150 152 154 156 158 160 162 164 166 168 170 172 174 176 178 180 182 184 186 188 190 192 194 196 198 200 "
     ]
    }
   ],
   "source": [
    "print('--- Even númbers between 1 and 200 ---')\n",
    "for i in range(1, 201):\n",
    "    if i%2==0:\n",
    "        print(i, end=' ')"
   ]
  },
  {
   "cell_type": "code",
   "execution_count": 7,
   "metadata": {},
   "outputs": [
    {
     "name": "stdout",
     "output_type": "stream",
     "text": [
      "--- Odd númbers between 1 and 200 ---\n",
      "1 3 5 7 9 11 13 15 17 19 21 23 25 27 29 31 33 35 37 39 41 43 45 47 49 51 53 55 57 59 61 63 65 67 69 71 73 75 77 79 81 83 85 87 89 91 93 95 97 99 101 103 105 107 109 111 113 115 117 119 121 123 125 127 129 131 133 135 137 139 141 143 145 147 149 151 153 155 157 159 161 163 165 167 169 171 173 175 177 179 181 183 185 187 189 191 193 195 197 199 "
     ]
    }
   ],
   "source": [
    "print('--- Odd númbers between 1 and 200 ---')\n",
    "for i in range(1, 201):\n",
    "    if i%2!=0:\n",
    "        print(i, end=' ')"
   ]
  },
  {
   "cell_type": "code",
   "execution_count": 24,
   "metadata": {},
   "outputs": [
    {
     "name": "stdout",
     "output_type": "stream",
     "text": [
      "--- Calculate the factorial of a number ---\n",
      "Enter your number: 10\n",
      "Calculating 10!...\n",
      "10!  x  9!  x  8!  x  7!  x  6!  x  5!  x  4!  x  3!  x  2!  x  1!  =  the factorial of 10 is 1048576\n"
     ]
    }
   ],
   "source": [
    "print('--- Calculate the factorial of a number ---')\n",
    "n = int(input('Enter your number: '))\n",
    "c = n\n",
    "f = 1\n",
    "print(f'Calculating {n}!...')\n",
    "while c > 0:  \n",
    "    print(f'{c}!', end=\" \")\n",
    "    print(' x ' if c > 1 else ' = ', end = ' ')\n",
    "    f = f * i\n",
    "    c -= 1\n",
    "print(f'the factorial of {n} is {f}')"
   ]
  },
  {
   "cell_type": "code",
   "execution_count": 9,
   "metadata": {},
   "outputs": [
    {
     "name": "stdout",
     "output_type": "stream",
     "text": [
      "--- Knowing your numbers ---\n",
      "Enter your number: 1\n",
      "Enter your number: 5\n",
      "Enter your number: 8\n",
      "Enter your number: 9\n",
      "Enter your number: 3\n",
      "Enter your number: 1\n",
      "Enter your number: 4\n",
      "Enter your number: 2\n",
      "Enter your number: 5\n",
      "Enter your number: 7\n",
      "Enter your number: 8\n",
      "Enter your number: 1\n",
      "Enter your number: 2\n",
      "Enter your number: 3\n",
      "Enter your number: 56\n",
      "Enter your number: 32\n",
      "Enter your number: 95\n",
      "Enter your number: 97\n",
      "Enter your number: -1\n",
      "The even numbers are: [2, 2, 4, 8, 8, 32, 56]\n",
      "The even numbers are: [1, 1, 1, 3, 3, 5, 5, 7, 9, 95, 97]\n"
     ]
    }
   ],
   "source": [
    "print('--- Knowing your numbers ---')\n",
    "l = []\n",
    "even = []\n",
    "odd = []\n",
    "while True:\n",
    "    n = int(input('Enter your number: '))\n",
    "    if n>0:\n",
    "        l.append(n)\n",
    "    else:\n",
    "        break\n",
    "for num in l:\n",
    "    if num%2==0:\n",
    "        even.append(num)\n",
    "        even.sort()\n",
    "    else:\n",
    "        odd.append(num)\n",
    "        odd.sort()\n",
    "print(f'The even numbers are: {even}')\n",
    "print(f'The even numbers are: {odd}')"
   ]
  },
  {
   "cell_type": "code",
   "execution_count": 17,
   "metadata": {},
   "outputs": [
    {
     "name": "stdout",
     "output_type": "stream",
     "text": [
      "---Working with lists---\n",
      "B\n",
      "C\n",
      "G\n",
      "F\n",
      "I\n",
      "J\n",
      "D\n",
      "M\n",
      "H\n",
      "L\n",
      "E\n",
      "A\n",
      "K\n"
     ]
    }
   ],
   "source": [
    "import random\n",
    "print('---Working with lists---')\n",
    "l=['A','B','C','D','E','F','G','H','I','J','K','L','M']\n",
    "random.shuffle(l)\n",
    "for letter in l:\n",
    "    print(letter)"
   ]
  },
  {
   "cell_type": "code",
   "execution_count": 27,
   "metadata": {},
   "outputs": [
    {
     "name": "stdout",
     "output_type": "stream",
     "text": [
      "--- Know the average of the five numbers ---\n",
      "Enter five numbers: 1\n",
      "Enter five numbers: 5\n",
      "Enter five numbers: 3\n",
      "Enter five numbers: 4\n",
      "Enter five numbers: 2\n",
      "The average of the numbers are: 3.0\n"
     ]
    }
   ],
   "source": [
    "print('--- Know the average of the five numbers ---')\n",
    "s = 0\n",
    "for i in range(1,6):\n",
    "    n = float(input('Enter five numbers: '))\n",
    "    s+=n\n",
    "print(f'The average of the numbers are: {s/5}')"
   ]
  },
  {
   "cell_type": "code",
   "execution_count": 1,
   "metadata": {},
   "outputs": [
    {
     "name": "stdout",
     "output_type": "stream",
     "text": [
      "---Your shopping list---\n",
      "Total purchases is: $127.20\n",
      "Total purchases is: $127.20\n"
     ]
    }
   ],
   "source": [
    "print('---Your shopping list---')\n",
    "list_=[\n",
    "    {'nome':'feijão','preco':9.79},\n",
    "    {'nome':'arroz','preco':3.45},\n",
    "    {'nome':'carne','preco':20.93},\n",
    "    {'nome':'macarrão','preco':2.99},\n",
    "    {'nome':'vinagre','preco':2.25},\n",
    "    {'nome':'pimenta','preco':1.27},\n",
    "    {'nome':'batata','preco':5.67},\n",
    "    {'nome':'leite','preco':12},\n",
    "    {'nome':'manteiga','preco':7.99},\n",
    "    {'nome':'margarina','preco':2.5},\n",
    "    {'nome':'cenoura','preco':3.55},\n",
    "    {'nome':'sabão','preco':4.79},\n",
    "    {'nome':'chá','preco':3.45},\n",
    "    {'nome':'morango','preco':17.8},\n",
    "    {'nome':'soja','preco':20.2},\n",
    "    {'nome':'goiaba','preco':3.45},\n",
    "    {'nome':'melão','preco':5.12},\n",
    "]\n",
    "total = 0\n",
    "for i in list_:\n",
    "    total = total + i['preco']\n",
    "print(f'Total purchases is: ${total:.2f}')\n",
    "\n",
    "# OR:\n",
    "\n",
    "total_ = sum([l['preco'] for l in list_])\n",
    "print(f'Total purchases is: ${total_:.2f}')"
   ]
  },
  {
   "cell_type": "code",
   "execution_count": 2,
   "metadata": {},
   "outputs": [
    {
     "name": "stdout",
     "output_type": "stream",
     "text": [
      "---more and less cheap product---\n",
      "Most expensive product: Carne - $20.93\n",
      "Cheaper product: Pimenta - $1.27\n"
     ]
    }
   ],
   "source": [
    "print('---more and less cheap product---')\n",
    "\n",
    "max_ = max(list_, key=lambda p:p['preco'])\n",
    "min_ = min(list_, key=lambda p:p['preco'])\n",
    "print(f\"Most expensive product: {max_['nome'].title()}: ${max_['preco']:.2f}\")\n",
    "print(f\"Cheaper product: {min_['nome'].title()}: ${min_['preco']:.2f}\")"
   ]
  },
  {
   "cell_type": "code",
   "execution_count": 86,
   "metadata": {},
   "outputs": [
    {
     "data": {
      "text/plain": [
       "'carne'"
      ]
     },
     "execution_count": 86,
     "metadata": {},
     "output_type": "execute_result"
    }
   ],
   "source": [
    "max_['nome']"
   ]
  },
  {
   "cell_type": "code",
   "execution_count": 9,
   "metadata": {},
   "outputs": [
    {
     "name": "stdout",
     "output_type": "stream",
     "text": [
      "---squared---\n",
      "Enter 1º number: 5\n",
      "Enter 2º number: 98\n",
      "Enter 3º number: 4\n",
      "Enter 4º number: 72\n",
      "Enter 5º number: 62\n",
      "The number square 5 is 25\n",
      "The number square 98 is 9604\n",
      "The number square 4 is 16\n",
      "The number square 72 is 5184\n",
      "The number square 62 is 3844\n"
     ]
    }
   ],
   "source": [
    "print(\"---squared---\")\n",
    "l = []\n",
    "for i in range(1,6):\n",
    "    n = int(input(f\"Enter {i}º number: \"))\n",
    "    if n > 0:\n",
    "        l.append(n)\n",
    "    if i == 5:\n",
    "        for n in l:\n",
    "            print(f\"The number square {n} is {n**2}\")\n",
    "        \n",
    "        \n",
    "        "
   ]
  },
  {
   "cell_type": "code",
   "execution_count": 26,
   "metadata": {},
   "outputs": [
    {
     "name": "stdout",
     "output_type": "stream",
     "text": [
      "---work your number---\n",
      "enter your number: 5\n",
      "1 ,2 ,3 ,4 ,5 \n",
      "The sum of even numbers is: 6\n",
      "The sum of odd numbers is: 9\n"
     ]
    }
   ],
   "source": [
    "print(\"---work your number---\")\n",
    "n = int(input(\"enter your number: \"))\n",
    "p = 0\n",
    "o = 0\n",
    "if n>0:\n",
    "    for i in range(1, n+1):\n",
    "        print(i,\",\" if i<5 else \"\", end=\"\")\n",
    "        if i%2==0:\n",
    "            p += i \n",
    "        else:\n",
    "            o += i            \n",
    "    print(f\"\\nThe sum of even numbers is: {p}\")\n",
    "    print(f\"The sum of odd numbers is: {o}\")\n",
    "else:\n",
    "    print(f\"Number {n} invalid!\")"
   ]
  },
  {
   "cell_type": "code",
   "execution_count": 46,
   "metadata": {},
   "outputs": [
    {
     "name": "stdout",
     "output_type": "stream",
     "text": [
      "---Know if the number is prime---\n",
      "Enter your number: 37\n",
      "The number 37 is prime.\n"
     ]
    }
   ],
   "source": [
    "print(\"---Know if the number is prime---\")\n",
    "n = int(input(\"Enter your number: \"))\n",
    "if n > 1 :\n",
    "    for i in range(2, n):\n",
    "            if n%i==0:\n",
    "                print(f\"The number {n} is not prime.\")\n",
    "                break\n",
    "    else: \n",
    "        print(f\"The number {n} is prime.\")\n",
    "else:\n",
    "    print(f\"The number {n} is not prime.\")"
   ]
  },
  {
   "cell_type": "code",
   "execution_count": 18,
   "metadata": {},
   "outputs": [
    {
     "name": "stdout",
     "output_type": "stream",
     "text": [
      "---Prime numbers in an interval---\n",
      "First number in your range: 1\n",
      "Last number in your range: 30\n",
      "The prime numbers in the range are:\n",
      "2\n",
      "3\n",
      "5\n",
      "7\n",
      "11\n",
      "13\n",
      "17\n",
      "19\n",
      "23\n",
      "29\n"
     ]
    }
   ],
   "source": [
    "print(\"---Prime numbers in an interval---\")\n",
    "n = int(input(\"First number in your range: \"))\n",
    "n_ = int(input(\"Last number in your range: \"))\n",
    "print(\"The prime numbers in the range are:\")\n",
    "for i in range(n,n_+1):\n",
    "    if i>1:\n",
    "        for k in range(2,i):\n",
    "            if i%k==0:\n",
    "                break\n",
    "        else:\n",
    "            print(i)\n",
    "    \n",
    "        "
   ]
  },
  {
   "cell_type": "code",
   "execution_count": 11,
   "metadata": {},
   "outputs": [
    {
     "name": "stdout",
     "output_type": "stream",
     "text": [
      "---Fibonacci sequence---\n",
      "Inform the nth term: 10\n",
      "1, 1, 2, 3, 5, 8, 13, 21, 34, 55"
     ]
    }
   ],
   "source": [
    "print(\"---Fibonacci sequence---\")\n",
    "n = int(input(\"Inform the nth term: \"))\n",
    "n1, n2 = 0,1\n",
    "c = 0\n",
    "if n<=0:\n",
    "    print(\"The number must be positive!\")\n",
    "elif n==1:\n",
    "    print(n1)\n",
    "else:\n",
    "    while c<n:\n",
    "        n1,n2=n2,n1+n2\n",
    "        c+=1\n",
    "        print(n1, end=\", \" if c<n else \"\")\n"
   ]
  },
  {
   "cell_type": "code",
   "execution_count": 3,
   "metadata": {},
   "outputs": [
    {
     "name": "stdout",
     "output_type": "stream",
     "text": [
      "---Know the types of list elements---\n",
      "(1,) = <class 'tuple'>\n",
      "[1, 2, 3] = <class 'list'>\n",
      "1 = <class 'int'>\n",
      "{4, 5} = <class 'set'>\n",
      "{'nome': 'A', 'value': 2} = <class 'dict'>\n",
      "10 = <class 'int'>\n",
      "[] = <class 'list'>\n",
      "(1+3j) = <class 'complex'>\n",
      "1.2 = <class 'float'>\n",
      "True = <class 'bool'>\n",
      "False = <class 'bool'>\n",
      "None = <class 'NoneType'>\n",
      "Hello World! = <class 'str'>\n"
     ]
    }
   ],
   "source": [
    "print(\"---Know the types of list elements---\")\n",
    "lista=[\n",
    "    (1,),\n",
    "    [1,2,3],\n",
    "    (1),\n",
    "    {4,5},\n",
    "    {'nome':'A','value':2},\n",
    "    10,\n",
    "    [],\n",
    "    1+3j,\n",
    "    1.2,\n",
    "    True,\n",
    "    False,\n",
    "    None,\n",
    "    'Hello World!',\n",
    "]\n",
    "for i in lista:\n",
    "    print(i,\"=\",type(i))"
   ]
  },
  {
   "cell_type": "code",
   "execution_count": 13,
   "metadata": {},
   "outputs": [
    {
     "name": "stdout",
     "output_type": "stream",
     "text": [
      "---A sommation---\n",
      "First number in your range: 0\n",
      "Last number in your range: 10\n",
      "The sum of the range is 55\n"
     ]
    }
   ],
   "source": [
    "print('---A sommation---')\n",
    "n = int(input(\"First number in your range: \"))\n",
    "n_ = int(input(\"Last number in your range: \"))\n",
    "s = 0\n",
    "if n>=0 and n_>=0:\n",
    "    for i in range(n, n_+1):\n",
    "        s = s+i\n",
    "    print(f'The sum of the range is {s}')\n",
    "else:\n",
    "    print(\"Your numeric range is invalid!\")"
   ]
  },
  {
   "cell_type": "code",
   "execution_count": 13,
   "metadata": {},
   "outputs": [
    {
     "name": "stdout",
     "output_type": "stream",
     "text": [
      "Formic\n",
      "*\n",
      "**\n",
      "***\n",
      "****\n",
      "*****\n",
      "******\n",
      "*******\n",
      "********\n",
      "*********\n",
      "**********\n",
      "***********\n",
      "**********\n",
      "*********\n",
      "********\n",
      "*******\n",
      "******\n",
      "*****\n",
      "****\n",
      "***\n",
      "**\n",
      "*\n"
     ]
    }
   ],
   "source": [
    "print('Formic')\n",
    "for i in range(1,12):\n",
    "    print(i*'*')\n",
    "for i in range(10, 0, -1):\n",
    "    print(i*'*')"
   ]
  },
  {
   "cell_type": "code",
   "execution_count": 16,
   "metadata": {},
   "outputs": [
    {
     "name": "stdout",
     "output_type": "stream",
     "text": [
      "---odd and even in the list---\n",
      "The odd numbers are: 49\n",
      "The even numbers are: 50\n"
     ]
    }
   ],
   "source": [
    "lista=[944, 52, 161, 436, 77, 217, \n",
    "616, 639, 280, 277, 907, 735, 321, \n",
    "194, 736, 130, 793, 148, 799, 631, \n",
    "906, 417, 186, 913, 446, 537, 86, 75, \n",
    "328, 77, 899, 481, 303, 997, 212, 217,\n",
    "696, 391, 402, 800, 709, 293, 9, 700, \n",
    "108, 253, 562, 166, 252, 315, 655, 680,\n",
    "944, 8, 850, 765, 821, 216, 685, 666,\n",
    "860, 32, 492, 880, 714, 424, 270, 308,\n",
    "641, 83, 555, 807, 840, 724, 193, 256, \n",
    "556, 665, 902, 714, 564, 13, 903, 625, 14, \n",
    "551, 301, 915, 633, 781, 427, 517, 372, \n",
    "164, 469, 194, 5, 818, 776,\n",
    "] \n",
    "print(\"---odd and even in the list---\")\n",
    "e = 0\n",
    "o = 0\n",
    "for i in lista:\n",
    "    if i%2==0:\n",
    "        e += 1\n",
    "    else:\n",
    "        o += 1\n",
    "print(f'The odd numbers are: {o}')\n",
    "print(f'The even numbers are: {e}')"
   ]
  },
  {
   "cell_type": "code",
   "execution_count": 18,
   "metadata": {},
   "outputs": [
    {
     "name": "stdout",
     "output_type": "stream",
     "text": [
      "---Another metod---\n",
      "The odd numbers are: 49\n",
      "The even numbers are: 50\n"
     ]
    }
   ],
   "source": [
    "print('---Another metod---' )\n",
    "even_list = [n for n in lista if n%2==0]\n",
    "odd_list = [n for n in lista if n%2!=0]\n",
    "print(f'The odd numbers are: {len(odd_list)}')\n",
    "print(f'The even numbers are: {len(even_list)}')"
   ]
  },
  {
   "cell_type": "code",
   "execution_count": null,
   "metadata": {},
   "outputs": [],
   "source": []
  }
 ],
 "metadata": {
  "kernelspec": {
   "display_name": "Python 3",
   "language": "python",
   "name": "python3"
  },
  "language_info": {
   "codemirror_mode": {
    "name": "ipython",
    "version": 3
   },
   "file_extension": ".py",
   "mimetype": "text/x-python",
   "name": "python",
   "nbconvert_exporter": "python",
   "pygments_lexer": "ipython3",
   "version": "3.8.5"
  }
 },
 "nbformat": 4,
 "nbformat_minor": 4
}
